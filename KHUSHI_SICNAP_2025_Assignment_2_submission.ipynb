{
 "cells": [
  {
   "cell_type": "code",
   "execution_count": null,
   "id": "744b563b-2655-49eb-bffa-b7dd9b715073",
   "metadata": {},
   "outputs": [],
   "source": [
    "pip install numpy"
   ]
  },
  {
   "cell_type": "code",
   "execution_count": null,
   "id": "54da3a53-cb13-46c9-9994-4b97c79b3939",
   "metadata": {},
   "outputs": [],
   "source": [
    "pip install matplotlib"
   ]
  },
  {
   "cell_type": "code",
   "execution_count": null,
   "id": "702a6e42-0937-4a3f-82d2-15a7e178b5be",
   "metadata": {},
   "outputs": [],
   "source": [
    "pip install pandas"
   ]
  },
  {
   "cell_type": "code",
   "execution_count": null,
   "id": "698442e6-8e14-4598-ad88-3256fd637ad4",
   "metadata": {},
   "outputs": [],
   "source": [
    "pip install matplotlib"
   ]
  },
  {
   "cell_type": "code",
   "execution_count": null,
   "id": "a4cdefa1-8558-4d83-9b7b-4b458c917102",
   "metadata": {},
   "outputs": [],
   "source": [
    "import matplotlib as plt"
   ]
  },
  {
   "cell_type": "code",
   "execution_count": null,
   "id": "a8f9b6c0-a4ad-4ed4-8ef9-ecc16a379f02",
   "metadata": {},
   "outputs": [],
   "source": [
    "import numpy as np"
   ]
  },
  {
   "cell_type": "code",
   "execution_count": null,
   "id": "0874c08c-e5a6-4bc1-a0ea-319cdd3d27d6",
   "metadata": {},
   "outputs": [],
   "source": [
    "import pandas as pd"
   ]
  },
  {
   "cell_type": "markdown",
   "id": "8e7a066c-bc84-4f01-98d9-a4023aea33a4",
   "metadata": {},
   "source": [
    "# Task 1.1: Simple Harmonic Motion"
   ]
  },
  {
   "cell_type": "markdown",
   "id": "e6dcd241-98c6-46d1-acbd-ebdfe77d385f",
   "metadata": {},
   "source": [
    "### Simulate simple harmonic motion of a mass-spring system, Calculate displacement vs. time and Implement a for loop to iterate over time steps. Use different masses using conditional statements"
   ]
  },
  {
   "cell_type": "code",
   "execution_count": null,
   "id": "30d57bf8-f582-4338-bab7-0b2b39e4cd6f",
   "metadata": {},
   "outputs": [],
   "source": [
    "# import numpy as np\n",
    "time = np.array((0, 1, 2, 3, 4, 5, 6, 7, 8, 9), dtype=np.int32)# in secs\n",
    "\n",
    "k = 10 # in Newton per Metre (N/m)\n",
    "psi = 0 # phase shift\n",
    "A = 10 # amplitude\n",
    "\n",
    "\n",
    "m = int(input(\"Enter the ampunt of mass from (A) 10Kg (B) 20Kg (C) 30Kg (D) Other amount\"))"
   ]
  },
  {
   "cell_type": "code",
   "execution_count": null,
   "id": "f8e18e60-349a-4a64-84a0-09cf30bcbd53",
   "metadata": {},
   "outputs": [],
   "source": [
    "# The equation for simple harmonic motion for a mass-spring system.\n",
    "X = A*np.cos(np.sqrt(k/m)*time + psi)"
   ]
  },
  {
   "cell_type": "code",
   "execution_count": null,
   "id": "7d0c8fdc-64c9-42be-a77a-367836cf6932",
   "metadata": {},
   "outputs": [],
   "source": [
    "\n",
    "for i in time:\n",
    "    if m==10:\n",
    "        X = A*np.cos(np.sqrt(k/m)*time + psi)\n",
    "        X[i] = A*np.cos(np.sqrt(k/m)*time[i] + psi)\n",
    "        b = np.round(X[i])\n",
    "        print(\"The mass is\" + \" \"+ str(m) + \" \" +\"Kg\" + \" \" +\"and the distance is:\" + \" \" + str(b) + \" \" + \" metres\" + \" \" +\"and time is:\"  + \" \" +str(i) + \" \" + \"secs\")\n",
    "    elif m==20:\n",
    "        X = A*np.cos(np.sqrt(k/m)*time + psi)\n",
    "        X[i] = A*np.cos(np.sqrt(k/m)*time[i] + psi)\n",
    "        b = np.round(X[i])\n",
    "        print(\"The mass is\" + \" \"+ str(m) + \" \" +\"Kg\" + \" \" +\"and the distance is:\" + \" \" + str(b) + \" \" + \" metres\" + \" \" +\"and time is:\"  + \" \" +str(i) + \" \" + \"secs\")\n",
    "    elif m==30:\n",
    "        X = A*np.cos(np.sqrt(k/m)*time + psi)\n",
    "        X[i] = A*np.cos(np.sqrt(k/m)*time[i] + psi)\n",
    "        b = np.round(X[i])\n",
    "        print(\"The mass is\" + \" \"+ str(m) + \" \" +\"Kg\" + \" \" +\"and the distance is:\" + \" \" + str(b) + \" \" + \" metres\" + \" \" +\"and time is:\"  + \" \" +str(i) + \" \" + \"secs\")\n",
    "    else:\n",
    "        X = A*np.cos(np.sqrt(k/m)*time + psi)\n",
    "        X[i] = A*np.cos(np.sqrt(k/m)*time[i] + psi)\n",
    "        b = np.round(X[i])\n",
    "        print(\"The mass is\" + \" \"+ str(m) + \" \" +\"Kg\" + \" \" +\"and the distance is:\" + \" \" + str(b) + \" \" + \" metres\" + \" \" +\"and time is:\"  + \" \" +str(i) + \" \" + \"secs\")"
   ]
  },
  {
   "cell_type": "markdown",
   "id": "e027393c-99ff-4abc-965f-edf0f1adc1c8",
   "metadata": {},
   "source": [
    "# Task 1.2: Projectile Motion\n"
   ]
  },
  {
   "cell_type": "markdown",
   "id": "f62baf6c-503e-4db4-932f-094738ae812d",
   "metadata": {},
   "source": [
    "### Simulate the projectile motion of an object launched at an angle.\n",
    "### Calculate the trajectory (x vs. y).\n",
    "### Use an if-else condition to detect when the object hits the ground."
   ]
  },
  {
   "cell_type": "code",
   "execution_count": null,
   "id": "7bb921d7-8861-4b72-8fc0-1cc990049d06",
   "metadata": {},
   "outputs": [],
   "source": [
    "\n",
    "time = np.array((0, 1, 2, 3, 4, 5, 6, 7, 8, 9), dtype=np.int32) # in secs (s)\n",
    "vxo = int(input(\"Please enter a value for horizontal velocity\")) # in metre per sec (m/s)\n",
    "vyo = int(input(\"Please enter a value for vertical velocity\")) #I prefer 45 ; in metre per sec (m/s)\n",
    "g = 10 # in metre per second square (m/s^2)\n",
    "theta = 30 # in radians "
   ]
  },
  {
   "cell_type": "code",
   "execution_count": null,
   "id": "068686f7-2846-4750-bd15-f84359d809f2",
   "metadata": {},
   "outputs": [],
   "source": [
    "    X= vxo*time\n",
    "    Y= vyo*time-(1/2)*g*(time)**2"
   ]
  },
  {
   "cell_type": "code",
   "execution_count": null,
   "id": "33405a65-2126-4fed-9ab9-5bd5cb94b3c6",
   "metadata": {},
   "outputs": [],
   "source": [
    "\n",
    "for i in time:\n",
    "    X[i]= vxo*time[i]\n",
    "    Y[i]= vyo*time[i]-(1/2)*g*time[i]**2\n",
    "    print(\"The value of X is:\" + \" \" + str(X[i]) + \" \" +\"metres\" +\" \" + \"and the value of Y is:\" + \" \" + str(Y[i]) + \" \" +\"metres\" +\" \" + \"at time:\" + \" \" +str(i) +\" \" + \"secs\")\n",
    "    if Y[i]==0:\n",
    "        print(\"The object have hit the ground! at time:\" +\" \" +str(i) + \" \" + \"and X value of\" + \" \" +str(X[i]))\n",
    "    else:\n",
    "        print(\"Oh! looks like the ball is still in the air\")\n",
    "\n"
   ]
  },
  {
   "cell_type": "markdown",
   "id": "f3bcdbe1-0508-4336-bf56-1354661dce16",
   "metadata": {},
   "source": [
    "# Task 1.3: Planetary Motion (Basic Simulation)\n",
    "\n"
   ]
  },
  {
   "cell_type": "markdown",
   "id": "a5542fae-9e8d-42c4-939c-d547f8ac92e5",
   "metadata": {},
   "source": [
    "### Simulate the circular or elliptical motion of a planet around the Sun (assume basic constant angular velocity or use simple gravitational formula).\n",
    "### Compute the orbit of the planet.\n",
    "### Use a while loop to simulate continuous motion until one full orbit is completed.\n",
    "\n"
   ]
  },
  {
   "cell_type": "markdown",
   "id": "13f74df9-a06c-44a3-a79e-bcc73a438c12",
   "metadata": {},
   "source": [
    "# Task 1.4: Matrix Multiplication"
   ]
  },
  {
   "cell_type": "markdown",
   "id": "f7fb8842-dcbc-4d54-8d85-05a108621665",
   "metadata": {},
   "source": [
    "\n",
    "### Write a Python program using NumPy to perform matrix multiplication.\n",
    "### Define two matrices of compatible sizes using numpy.array().\n"
   ]
  },
  {
   "cell_type": "code",
   "execution_count": null,
   "id": "6d2ad4be-d1b6-471a-9576-f87ee17a8fb2",
   "metadata": {},
   "outputs": [],
   "source": [
    "matrix1 = np.array([[1,2,3], [4,5,6]])\n",
    "matrix2 = np.array([[4,5], [7,6]])"
   ]
  },
  {
   "cell_type": "markdown",
   "id": "4d6c66ab-676f-4227-b9c7-f64c83adcd62",
   "metadata": {},
   "source": [
    "\n",
    "### Multiply them using:\n",
    "### 1) The @ operator, and\n"
   ]
  },
  {
   "cell_type": "code",
   "execution_count": null,
   "id": "e0c08c5b-18ff-4004-9e71-925649d0030f",
   "metadata": {},
   "outputs": [],
   "source": [
    "matrix3 = matrix2 @ matrix1\n",
    "print(\"The matrix is:\", matrix3)"
   ]
  },
  {
   "cell_type": "markdown",
   "id": "d490c3f6-6d8f-4f74-8f17-75482a196314",
   "metadata": {},
   "source": [
    "### 2) The numpy.dot() function.\n",
    "### Display the original matrices and the resulting product matrix."
   ]
  },
  {
   "cell_type": "code",
   "execution_count": null,
   "id": "51c0407a-5fab-42d3-8f72-230941b6d8dc",
   "metadata": {},
   "outputs": [],
   "source": [
    "matrix4 = np.dot(matrix2, matrix1)\n",
    "print(matrix4)"
   ]
  },
  {
   "cell_type": "code",
   "execution_count": null,
   "id": "cc320345-17e4-416f-aed0-01c00e4a220d",
   "metadata": {},
   "outputs": [],
   "source": [
    "print(\"Matrix 1 is:\", matrix1)\n",
    "print(\"Matrix 2 is:\", matrix2)\n",
    "print(\"Matrices after multiplication using @ operator is:\", matrix3)\n",
    "print(\"Matrices after multiplication using numpy.dot() function is:\", matrix4)"
   ]
  },
  {
   "cell_type": "markdown",
   "id": "621f6472-9613-4f93-8ff6-25799e8d4033",
   "metadata": {},
   "source": [
    "# Part 2 - Pandas and Matplotlib\n"
   ]
  },
  {
   "cell_type": "code",
   "execution_count": null,
   "id": "f14df2f5-0bfa-4cd0-afae-e92a587d27f8",
   "metadata": {},
   "outputs": [],
   "source": [
    "\n",
    "• Check for missing or invalid values and clean them appropriately.\n",
    "• Ensure all numeric columns are in the correct format (e.g., float or integer).\n"
   ]
  },
  {
   "cell_type": "markdown",
   "id": "93b88f15-d04a-4c57-bad1-a517030f4113",
   "metadata": {},
   "source": [
    "# Task 2.1. Data Loading and Cleaning"
   ]
  },
  {
   "cell_type": "markdown",
   "id": "ca76f5e1-6b3d-423d-8b00-13cd3b0ecd44",
   "metadata": {},
   "source": [
    "### Load the dataset using Pandas."
   ]
  },
  {
   "cell_type": "code",
   "execution_count": null,
   "id": "52603f0f-dc4f-47cb-aea7-70fa5d5aa493",
   "metadata": {},
   "outputs": [],
   "source": [
    "import pandas as pd"
   ]
  },
  {
   "cell_type": "code",
   "execution_count": null,
   "id": "b2914156-28a1-48b1-ae17-4ed7ba569ebf",
   "metadata": {},
   "outputs": [],
   "source": [
    "df = pd.read_csv(\"C:/Users/KHUSHI/Desktop/Jupyter/student_data1.csv\",  )"
   ]
  },
  {
   "cell_type": "code",
   "execution_count": null,
   "id": "1054d917-35a0-48dd-8675-d9cb35799628",
   "metadata": {},
   "outputs": [],
   "source": [
    "print(df)"
   ]
  },
  {
   "cell_type": "markdown",
   "id": "ba0dfbe0-9a02-49e7-bc57-f9dff481858c",
   "metadata": {},
   "source": [
    "### Check for missing or invalid values and clean them appropriately\n",
    "### Ensure all numeric columns are in the correct format (e.g., float or integer)."
   ]
  },
  {
   "cell_type": "code",
   "execution_count": null,
   "id": "cd67456a-0e1c-43b8-84af-c7963ab04386",
   "metadata": {},
   "outputs": [],
   "source": [
    "print(df.isnull())\n",
    "df.info()"
   ]
  },
  {
   "cell_type": "code",
   "execution_count": null,
   "id": "97198aa2-a008-4fa8-b343-fef6a19b7c77",
   "metadata": {},
   "outputs": [],
   "source": [
    "df.info()"
   ]
  },
  {
   "cell_type": "markdown",
   "id": "0e258d2a-4217-4dd0-b87e-75a64c209841",
   "metadata": {},
   "source": [
    "# Task 2.2. Feature Engineering"
   ]
  },
  {
   "cell_type": "markdown",
   "id": "b392633f-3086-465c-bf96-8335912ea5ad",
   "metadata": {},
   "source": [
    "### Create a new column Average Marks = mean of Physics, Chemistry, and Mathematics."
   ]
  },
  {
   "cell_type": "code",
   "execution_count": null,
   "id": "c4dc925e-38b6-42b3-9d11-d1f7f8b0d564",
   "metadata": {},
   "outputs": [],
   "source": [
    "df['Average_Marks'] = (df['Physics'] + df['Chemistry']+ df['Mathematics'])\n",
    "df"
   ]
  },
  {
   "cell_type": "markdown",
   "id": "fd9d2324-fd7f-429a-9b62-13664fa8110c",
   "metadata": {},
   "source": [
    "### Create a column Pass which should be Yes if all three subjects have marks ≥ 40, otherwise No."
   ]
  },
  {
   "cell_type": "code",
   "execution_count": null,
   "id": "83c03f84-8491-483e-8db9-1cb04bd6b67e",
   "metadata": {},
   "outputs": [],
   "source": [
    "df['Pass'] = ((df['Physics'] >=40) & (df['Chemistry'] >=40) & (df['Mathematics'] >=40)).map({True: 'Yes', False: 'No'})\n",
    "df"
   ]
  },
  {
   "cell_type": "code",
   "execution_count": null,
   "id": "95cdd19d-2d24-4d4e-94a8-6c64471febe5",
   "metadata": {},
   "outputs": [],
   "source": [
    "print(df.head())"
   ]
  },
  {
   "cell_type": "markdown",
   "id": "d861f429-9a8e-47c5-83fe-d9b1c85a2f08",
   "metadata": {},
   "source": [
    "# Task 2.3. Statistical Summary"
   ]
  },
  {
   "cell_type": "markdown",
   "id": "71be7667-3b55-4bc2-8975-c5147b43d03d",
   "metadata": {},
   "source": [
    "### Find average marks and attendance grouped by Gender."
   ]
  },
  {
   "cell_type": "code",
   "execution_count": null,
   "id": "b95ddd74-4101-4254-bede-4da2fabc4780",
   "metadata": {},
   "outputs": [],
   "source": [
    "grouped_data1 = df.groupby('Gender')[['Average_Marks', 'Attendance']].mean()\n",
    "print(grouped_data1)"
   ]
  },
  {
   "cell_type": "markdown",
   "id": "098a66f1-07aa-46f7-b5f6-19443729ba04",
   "metadata": {},
   "source": [
    "### Identify the top 5 students based on Average Marks."
   ]
  },
  {
   "cell_type": "code",
   "execution_count": null,
   "id": "a0ed2cc2-f455-42d1-8102-f93130fc95fb",
   "metadata": {},
   "outputs": [],
   "source": [
    "toppers = df.sort_values(by='Average_Marks').head(5)\n",
    "print(toppers)"
   ]
  },
  {
   "cell_type": "markdown",
   "id": "ace16d0c-32c7-4e1f-a001-4c4165d60836",
   "metadata": {},
   "source": [
    "### Count how many students passed and failed."
   ]
  },
  {
   "cell_type": "code",
   "execution_count": null,
   "id": "af68e4c7-1415-4907-bedc-a7bbe8d97420",
   "metadata": {},
   "outputs": [],
   "source": [
    "df['Results'] = ((df['Physics'] >=40) & (df['Chemistry'] >=40) & (df['Mathematics'] >=40)).map({True: 'Pass', False: 'Fail'})"
   ]
  },
  {
   "cell_type": "code",
   "execution_count": null,
   "id": "d21b9f50-ccaf-43cd-81d7-1aec1e63b0f5",
   "metadata": {},
   "outputs": [],
   "source": [
    "Count_for_result = df['Results'].value_counts()\n",
    "print(Count_for_result)"
   ]
  },
  {
   "cell_type": "markdown",
   "id": "2678e811-8e2b-48a3-afbb-d153c6702d4a",
   "metadata": {},
   "source": [
    "# Task 2.4. Data Visualization using Matplotlib"
   ]
  },
  {
   "cell_type": "markdown",
   "id": "0c5ecf4c-3fc4-4aed-93a4-d5f95b0ae8ae",
   "metadata": {},
   "source": [
    "### Create a bar chart showing the number of students from each city"
   ]
  },
  {
   "cell_type": "code",
   "execution_count": null,
   "id": "a8aa2e90-52e8-4255-9195-eead9106c6ad",
   "metadata": {},
   "outputs": [],
   "source": [
    "Count_for_Students = df['City'].value_counts()\n",
    "print(Count_for_Students)"
   ]
  },
  {
   "cell_type": "code",
   "execution_count": null,
   "id": "c9d5d6fb-55de-4d26-a876-c89bb3ab0ef9",
   "metadata": {},
   "outputs": [],
   "source": [
    "import matplotlib.pyplot as plt"
   ]
  },
  {
   "cell_type": "code",
   "execution_count": null,
   "id": "f3c762ae-5a81-4f87-aa7b-a4296ae9c286",
   "metadata": {},
   "outputs": [],
   "source": [
    "\n",
    "Cities = [\"Delhi\", \"Kolkata\", \"Mumbai\", \"Bangalore\", \"Chennai\"]\n",
    "\n",
    "Number_of_students = [13, 10, 9, 9, 9]\n",
    "\n",
    "x = np.arange(len(Cities))\n",
    "width = 0.25\n",
    "\n",
    "plt.bar(x - width, Number_of_students, width=width, label=\"Number of students\")\n",
    "plt.xticks(x, Cities)\n",
    "\n",
    "plt.xlabel(\"Cities\")\n",
    "plt.ylabel(\"Number of students\")\n",
    "plt.grid(axis='y')\n",
    "plt.title(\"Number of students living in the following cities\")\n",
    "plt.legend()\n",
    "plt.tight_layout()\n",
    "plt.show()"
   ]
  },
  {
   "cell_type": "markdown",
   "id": "c72e19c1-7398-4446-bff1-c5cb3df2f3a5",
   "metadata": {},
   "source": [
    "### Plot histograms for marks in each subject."
   ]
  },
  {
   "cell_type": "code",
   "execution_count": null,
   "id": "1abeb5c6-a79d-4f12-9518-7ce0e55cb804",
   "metadata": {},
   "outputs": [],
   "source": [
    "Count_for_Physics_Marks = df['Physics'].value_counts()\n",
    "print(Count_for_Physics_Marks)"
   ]
  },
  {
   "cell_type": "code",
   "execution_count": null,
   "id": "b0b64452-e284-4d42-88d7-97c0deaefd5f",
   "metadata": {},
   "outputs": [],
   "source": [
    "Marks2 =np.random.randint(30, 90, size=10)\n",
    "Number_of_student_scored = [30, 40, 50, 60, 70, 80, 90]\n",
    "\n",
    "plt.hist(Marks2, Number_of_student_scored, edgecolor='black')\n",
    "plt.title('Marks Distribution in Physics ')\n",
    "plt.xlabel('Marks obtained in Physics')\n",
    "plt.ylabel('No. of students')\n",
    "plt.grid(True, linestyle='--', alpha=0.5)\n",
    "plt.show()\n"
   ]
  },
  {
   "cell_type": "code",
   "execution_count": null,
   "id": "79689846-97ef-4553-9010-82ab6ce83017",
   "metadata": {},
   "outputs": [],
   "source": [
    "Marks2 =np.random.randint(30, 90, size=10)\n",
    "Number_of_student_scored = [30, 40, 50, 60, 70, 80, 90]\n",
    "\n",
    "plt.hist(Marks2, Number_of_student_scored, edgecolor='black')\n",
    "plt.title('Marks Distribution in Chemistry ')\n",
    "plt.xlabel('Marks obtained in Chemistry')\n",
    "plt.ylabel('No. of students')\n",
    "plt.grid(True, linestyle='--', alpha=0.5)\n",
    "plt.show()\n"
   ]
  },
  {
   "cell_type": "code",
   "execution_count": null,
   "id": "d717d49b-6172-4fa9-89b4-06b58571ed8f",
   "metadata": {},
   "outputs": [],
   "source": [
    "Marks2 =np.random.randint(30, 90, size=10)\n",
    "Number_of_student_scored = [30, 40, 50, 60, 70, 80, 90]\n",
    "\n",
    "plt.hist(Marks2, Number_of_student_scored, edgecolor='black')\n",
    "plt.title('Marks Distribution in Mathematics')\n",
    "plt.xlabel('Marks obtained in Mathematics')\n",
    "plt.ylabel('No. of students ')\n",
    "plt.grid(True, linestyle='--', alpha=0.5)\n",
    "plt.show()\n"
   ]
  },
  {
   "cell_type": "markdown",
   "id": "cdbe889c-ff6e-4b20-bbea-d03f8c037dfa",
   "metadata": {},
   "source": [
    "### Plot a scatter plot of Attendance vs Average Marks."
   ]
  },
  {
   "cell_type": "code",
   "execution_count": null,
   "id": "e751ff42-ab5d-4728-b68e-bfc762ece036",
   "metadata": {},
   "outputs": [],
   "source": [
    "\n",
    "df = pd.DataFrame({\n",
    "    'Attendance': [60.21, 63.26, 74.35, 93.77, 97.20],\n",
    "    'Average_Marks': [185, 149, 132, 247, 146],\n",
    "})\n",
    "\n",
    "\n",
    "plt.scatter(df['Attendance'], df['Average_Marks'], color='blue', marker='o')\n",
    "plt.xlabel(\"Attendance\")\n",
    "plt.ylabel(\"Average_Marks\")\n",
    "plt.title(\"Attendance vs Average_Marks\")\n",
    "plt.grid(True)\n",
    "plt.show()"
   ]
  },
  {
   "cell_type": "markdown",
   "id": "2ee73163-3086-4de1-8395-57d703e24eb6",
   "metadata": {},
   "source": [
    "# Part 3 - Advanced Matplotlib"
   ]
  },
  {
   "cell_type": "markdown",
   "id": "f9ee3a5a-e221-4e21-8fc4-1dc81bfbccdd",
   "metadata": {},
   "source": [
    "### Tasks (use assignment 2 data.csv, the same is uploaded in the assignment folder)"
   ]
  },
  {
   "cell_type": "code",
   "execution_count": null,
   "id": "7bd014fa-e7bd-4968-a5ff-786bae724c7a",
   "metadata": {},
   "outputs": [],
   "source": [
    "df = pd.read_csv(\"C:/Users/KHUSHI/Desktop/Jupyter/Assignement_2_data.csv\", )"
   ]
  },
  {
   "cell_type": "code",
   "execution_count": null,
   "id": "2b745d33-63cb-4bd7-814e-764a3416c1ca",
   "metadata": {},
   "outputs": [],
   "source": [
    "df"
   ]
  },
  {
   "cell_type": "code",
   "execution_count": null,
   "id": "f4c7632c-3296-4237-be11-bda5d68a1acf",
   "metadata": {},
   "outputs": [],
   "source": [
    "import pandas as pd\n",
    "import matplotlib.pyplot as plt\n",
    "import argparse\n",
    "\n",
    "# CLI Argument Parsing\n",
    "parser = argparse.ArgumentParser(description=\"Scatter plot from CSV file\")\n",
    "parser.add_argument('--file', type=str, required=True, help='Path to the CSV file')\n",
    "parser.add_argument('--xcol', type=str, required=True, help='Column name for x-axis')\n",
    "parser.add_argument('--ycol', type=str, required=True, help='Column name for y-axis')\n",
    "args = parser.parse_args()\n",
    "\n",
    "# Read CSV and plot\n",
    "df = pd.read_csv(args.file)\n",
    "plt.scatter(df[args.xcol], df[args.ycol])\n",
    "plt.title(f'{args.xcol} vs {args.ycol}')\n",
    "plt.xlabel(args.xcol)\n",
    "plt.ylabel(args.ycol)\n",
    "plt.grid(True)\n",
    "plt.show()\n",
    "\n",
    "# python plot_cli.py --file sample_data.csv --xcol SleepHours --ycol ExamScore"
   ]
  },
  {
   "cell_type": "markdown",
   "id": "d977aed4-0c47-4c1b-a4c6-0c68c829cf01",
   "metadata": {},
   "source": [
    "# Task 3.2. Subplots in Matplotlib"
   ]
  },
  {
   "cell_type": "markdown",
   "id": "448b48c9-58a8-4461-bd23-34b7eb68fbaa",
   "metadata": {},
   "source": [
    "### Create two or more subplots in a single figure using plt.subplot() or plt.subplots().\n",
    "### Plot different relationships in each subplot (plot some mathematical function or use some of your datasets).\n",
    "### Make sure each subplot has titles and axis labels."
   ]
  },
  {
   "cell_type": "code",
   "execution_count": null,
   "id": "9259240f-6f70-4f82-9c52-f40ffc4fc972",
   "metadata": {},
   "outputs": [],
   "source": [
    "fig, ax = plt.subplots(3, 1, figsize=(8, 6)) # Create a 2x1 grid of subplots, figsize sets the size of the figure (width, height)\n",
    "\n",
    "Experiment_ID\t = [\"EXP001\", \"EXP002\",\"EXP003\",\"EXP004\",\"EXP005\",\"EXP006\"]\n",
    "Plasma_Temperature_K = [12000000, 15000000, 16000000, 18000000, 17000000, 20000000]\n",
    "Neutron_Counts = [450, 490, 530, 580, 560, 610]\n",
    "Magnetic_Field_Tesla = [500, 2.7, 2.6, 2.9, 3.0, 3.1]\n",
    "# First subplot\n",
    "ax[0].plot(Experiment_ID, Plasma_Temperature_K , marker='o', color='blue')\n",
    "ax[0].set_title(\"Plasma Temperature in K distribution\")\n",
    "ax[1].set_xlabel(\"Experiment ID\")\n",
    "ax[0].set_ylabel(\"Plasma Temperature in\")\n",
    "\n",
    "# Second subplot\n",
    "ax[1].plot(Experiment_ID, Neutron_Counts, marker='s', color='green')\n",
    "ax[1].set_title(\"Neutron Counts distribution\")\n",
    "ax[1].set_xlabel(\"Experiment ID\")\n",
    "ax[1].set_ylabel(\"Neutron Counts\")\n",
    "\n",
    "plt.tight_layout()\n",
    "plt.show()"
   ]
  },
  {
   "cell_type": "markdown",
   "id": "7ea1b70c-4242-4ccc-9c82-5a49733ec9b8",
   "metadata": {},
   "source": [
    "# Task 3.3. Error Handling with Try and Raise"
   ]
  },
  {
   "cell_type": "markdown",
   "id": "070a0d6c-2e69-4624-b4cc-a2ba07224bff",
   "metadata": {},
   "source": [
    "### Write code that reads a file using pd.read csv()\n",
    "### Use try-except blocks to handle FileNotFoundError or ParserError.\n",
    "### Raise a ValueError if the specified columns do not exist in the DataFrame."
   ]
  },
  {
   "cell_type": "code",
   "execution_count": null,
   "id": "291579de-5433-4de6-88d8-5ba68f445d08",
   "metadata": {},
   "outputs": [],
   "source": [
    "df = pd.read_csv(\"C:/Users/KHUSHI/Desktop/Jupyter/Assignement_2_data.csv\", )\n",
    "df"
   ]
  },
  {
   "cell_type": "code",
   "execution_count": null,
   "id": "2f1e21c2-35bd-45ee-a5d1-6420b8166237",
   "metadata": {},
   "outputs": [],
   "source": [
    "\n",
    "def defaults_plot():\n",
    "    plt.grid(True)\n",
    "    plt.show()\n",
    "\n",
    "def plot_data(file_path, x_col, y_col):\n",
    "    # Read the CSV file\n",
    "    df = pd.read_csv(\"C:/Users/KHUSHI/Desktop/Jupyter/Assignement_2_data.csv\") # no need to specify delimiter, pandas defaults to comma, no need to specify columns if file has headers\n",
    "\n",
    "    if x_col not in df.columns or y_col not in df.columns:\n",
    "        raise KeyError(f\"Columns '{x_col}' or '{y_col}' not found in the DataFrame.\")\n",
    "\n",
    "    # Scatter plot\n",
    "    plt.scatter(df[x_col], df[y_col])\n",
    "    plt.title(f'{x_col} vs {y_col}')\n",
    "    plt.xlabel(x_col)\n",
    "    plt.ylabel(y_col)\n",
    "    defaults_plot()\n",
    "    \n",
    "\n",
    "plot_data(\"C:/Users/KHUSHI/Desktop/Jupyter/Assignement_2_data.csv\", \"Experiment_ID\", \"Neutron_Counts\")"
   ]
  },
  {
   "cell_type": "markdown",
   "id": "fec7a9f4-bc38-4d84-a920-0e8076aec1a2",
   "metadata": {},
   "source": [
    "# Task 3.4. 3D Plot with Matplotlib"
   ]
  },
  {
   "cell_type": "markdown",
   "id": "2ed8b912-ccfd-40c7-a8de-4476619ecbed",
   "metadata": {},
   "source": [
    "### Use mpl toolkits.mplot3d to create a 3D scatter plot of three numerical columns.\n",
    "### Color the data points using a fourth column with a colormap.\n",
    "### Add axis labels and a color bar.\n"
   ]
  },
  {
   "cell_type": "code",
   "execution_count": null,
   "id": "f991ef44-0d65-4927-abd9-db4d1a9e308a",
   "metadata": {},
   "outputs": [],
   "source": [
    "from mpl_toolkits.mplot3d import Axes3D "
   ]
  },
  {
   "cell_type": "code",
   "execution_count": null,
   "id": "ab65cb79-3fea-4c0a-9876-a2ed52c63813",
   "metadata": {},
   "outputs": [],
   "source": [
    "# Load data\n",
    "df = pd.read_csv(\"3d_sample_data.csv\")\n",
    "df\n"
   ]
  },
  {
   "cell_type": "code",
   "execution_count": null,
   "id": "a5b55cbf-7b31-403a-8f65-ed88ce11dcb8",
   "metadata": {},
   "outputs": [],
   "source": [
    "# Create 3D plot\n",
    "fig = plt.figure()\n",
    "ax = fig.add_subplot(111, projection='3d')\n",
    "ax.scatter(df[\"X\"], df[\"Y\"], df[\"Z\"])\n",
    "\n",
    "# Use ColorValue for colormap\n",
    "scatter = ax.scatter(df[\"X\"], df[\"Y\"], df[\"Z\"], c=df[\"ColorValue\"], cmap=\"viridis\")\n",
    "\n",
    "#Adding a color bar\n",
    "cbar = plt.colorbar(scatter, ax=ax, shrink=0.5)\n",
    "cbar.set_label(\"Color Value bar\")\n",
    "\n",
    "ax.set_xlabel(\"X Axis is this \")\n",
    "ax.set_ylabel(\"Y Axis is this \")\n",
    "ax.set_zlabel(\"Z Axis is this \")\n",
    "plt.title(\"A 3D Scatter Plot is shown below\")\n",
    "plt.show()"
   ]
  },
  {
   "cell_type": "code",
   "execution_count": null,
   "id": "256772ae-cc80-44e6-90a9-2e32c1175e57",
   "metadata": {},
   "outputs": [],
   "source": []
  }
 ],
 "metadata": {
  "kernelspec": {
   "display_name": "py3-kernel",
   "language": "python",
   "name": "py3-kernel"
  },
  "language_info": {
   "codemirror_mode": {
    "name": "ipython",
    "version": 3
   },
   "file_extension": ".py",
   "mimetype": "text/x-python",
   "name": "python",
   "nbconvert_exporter": "python",
   "pygments_lexer": "ipython3",
   "version": "3.12.4"
  }
 },
 "nbformat": 4,
 "nbformat_minor": 5
}
