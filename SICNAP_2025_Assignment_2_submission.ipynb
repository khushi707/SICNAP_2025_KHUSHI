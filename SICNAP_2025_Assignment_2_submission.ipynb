{
 "cells": [
  {
   "cell_type": "code",
   "execution_count": 44,
   "id": "744b563b-2655-49eb-bffa-b7dd9b715073",
   "metadata": {},
   "outputs": [
    {
     "name": "stdout",
     "output_type": "stream",
     "text": [
      "Requirement already satisfied: numpy in c:\\users\\khushi\\appdata\\roaming\\python\\python312\\site-packages (2.0.0)\n",
      "Note: you may need to restart the kernel to use updated packages.\n"
     ]
    },
    {
     "name": "stderr",
     "output_type": "stream",
     "text": [
      "\n",
      "[notice] A new release of pip is available: 24.2 -> 25.1.1\n",
      "[notice] To update, run: C:\\Users\\KHUSHI\\AppData\\Local\\Programs\\Python\\Python312\\python.exe -m pip install --upgrade pip\n"
     ]
    }
   ],
   "source": [
    "pip install numpy"
   ]
  },
  {
   "cell_type": "code",
   "execution_count": 2,
   "id": "54da3a53-cb13-46c9-9994-4b97c79b3939",
   "metadata": {},
   "outputs": [
    {
     "name": "stdout",
     "output_type": "stream",
     "text": [
      "Collecting matplotlib\n",
      "  Downloading matplotlib-3.10.3-cp312-cp312-win_amd64.whl.metadata (11 kB)\n",
      "Collecting contourpy>=1.0.1 (from matplotlib)\n",
      "  Downloading contourpy-1.3.2-cp312-cp312-win_amd64.whl.metadata (5.5 kB)\n",
      "Collecting cycler>=0.10 (from matplotlib)\n",
      "  Using cached cycler-0.12.1-py3-none-any.whl.metadata (3.8 kB)\n",
      "Collecting fonttools>=4.22.0 (from matplotlib)\n",
      "  Downloading fonttools-4.58.4-cp312-cp312-win_amd64.whl.metadata (108 kB)\n",
      "Collecting kiwisolver>=1.3.1 (from matplotlib)\n",
      "  Downloading kiwisolver-1.4.8-cp312-cp312-win_amd64.whl.metadata (6.3 kB)\n",
      "Requirement already satisfied: numpy>=1.23 in c:\\users\\khushi\\appdata\\roaming\\python\\python312\\site-packages (from matplotlib) (2.0.0)\n",
      "Requirement already satisfied: packaging>=20.0 in c:\\users\\khushi\\appdata\\local\\programs\\python\\python312\\lib\\site-packages (from matplotlib) (24.0)\n",
      "Collecting pillow>=8 (from matplotlib)\n",
      "  Downloading pillow-11.2.1-cp312-cp312-win_amd64.whl.metadata (9.1 kB)\n",
      "Collecting pyparsing>=2.3.1 (from matplotlib)\n",
      "  Downloading pyparsing-3.2.3-py3-none-any.whl.metadata (5.0 kB)\n",
      "Requirement already satisfied: python-dateutil>=2.7 in c:\\users\\khushi\\appdata\\roaming\\python\\python312\\site-packages (from matplotlib) (2.9.0.post0)\n",
      "Requirement already satisfied: six>=1.5 in c:\\users\\khushi\\appdata\\roaming\\python\\python312\\site-packages (from python-dateutil>=2.7->matplotlib) (1.16.0)\n",
      "Downloading matplotlib-3.10.3-cp312-cp312-win_amd64.whl (8.1 MB)\n",
      "   ---------------------------------------- 0.0/8.1 MB ? eta -:--:--\n",
      "   - -------------------------------------- 0.3/8.1 MB ? eta -:--:--\n",
      "   --- ------------------------------------ 0.8/8.1 MB 2.1 MB/s eta 0:00:04\n",
      "   --- ------------------------------------ 0.8/8.1 MB 2.1 MB/s eta 0:00:04\n",
      "   ----- ---------------------------------- 1.0/8.1 MB 1.3 MB/s eta 0:00:06\n",
      "   ------- -------------------------------- 1.6/8.1 MB 1.6 MB/s eta 0:00:05\n",
      "   ---------- ----------------------------- 2.1/8.1 MB 1.7 MB/s eta 0:00:04\n",
      "   ----------- ---------------------------- 2.4/8.1 MB 1.8 MB/s eta 0:00:04\n",
      "   ------------ --------------------------- 2.6/8.1 MB 1.6 MB/s eta 0:00:04\n",
      "   --------------- ------------------------ 3.1/8.1 MB 1.7 MB/s eta 0:00:03\n",
      "   ---------------- ----------------------- 3.4/8.1 MB 1.7 MB/s eta 0:00:03\n",
      "   ------------------- -------------------- 3.9/8.1 MB 1.7 MB/s eta 0:00:03\n",
      "   -------------------- ------------------- 4.2/8.1 MB 1.7 MB/s eta 0:00:03\n",
      "   -------------------- ------------------- 4.2/8.1 MB 1.7 MB/s eta 0:00:03\n",
      "   ---------------------- ----------------- 4.5/8.1 MB 1.6 MB/s eta 0:00:03\n",
      "   ------------------------ --------------- 5.0/8.1 MB 1.6 MB/s eta 0:00:02\n",
      "   ------------------------- -------------- 5.2/8.1 MB 1.6 MB/s eta 0:00:02\n",
      "   --------------------------- ------------ 5.5/8.1 MB 1.6 MB/s eta 0:00:02\n",
      "   ----------------------------- ---------- 6.0/8.1 MB 1.6 MB/s eta 0:00:02\n",
      "   ------------------------------- -------- 6.3/8.1 MB 1.6 MB/s eta 0:00:02\n",
      "   -------------------------------- ------- 6.6/8.1 MB 1.6 MB/s eta 0:00:01\n",
      "   --------------------------------- ------ 6.8/8.1 MB 1.6 MB/s eta 0:00:01\n",
      "   ----------------------------------- ---- 7.1/8.1 MB 1.5 MB/s eta 0:00:01\n",
      "   ----------------------------------- ---- 7.1/8.1 MB 1.5 MB/s eta 0:00:01\n",
      "   ------------------------------------ --- 7.3/8.1 MB 1.5 MB/s eta 0:00:01\n",
      "   ------------------------------------ --- 7.3/8.1 MB 1.5 MB/s eta 0:00:01\n",
      "   ------------------------------------ --- 7.3/8.1 MB 1.5 MB/s eta 0:00:01\n",
      "   ------------------------------------ --- 7.3/8.1 MB 1.5 MB/s eta 0:00:01\n",
      "   ------------------------------------- -- 7.6/8.1 MB 1.3 MB/s eta 0:00:01\n",
      "   ------------------------------------- -- 7.6/8.1 MB 1.3 MB/s eta 0:00:01\n",
      "   -------------------------------------- - 7.9/8.1 MB 1.3 MB/s eta 0:00:01\n",
      "   -------------------------------------- - 7.9/8.1 MB 1.3 MB/s eta 0:00:01\n",
      "   -------------------------------------- - 7.9/8.1 MB 1.3 MB/s eta 0:00:01\n",
      "   ---------------------------------------- 8.1/8.1 MB 1.2 MB/s eta 0:00:00\n",
      "Downloading contourpy-1.3.2-cp312-cp312-win_amd64.whl (223 kB)\n",
      "Using cached cycler-0.12.1-py3-none-any.whl (8.3 kB)\n",
      "Downloading fonttools-4.58.4-cp312-cp312-win_amd64.whl (2.2 MB)\n",
      "   ---------------------------------------- 0.0/2.2 MB ? eta -:--:--\n",
      "   ---------------------------------------- 0.0/2.2 MB ? eta -:--:--\n",
      "   ---- ----------------------------------- 0.3/2.2 MB ? eta -:--:--\n",
      "   --------- ------------------------------ 0.5/2.2 MB 882.6 kB/s eta 0:00:02\n",
      "   --------- ------------------------------ 0.5/2.2 MB 882.6 kB/s eta 0:00:02\n",
      "   -------------- ------------------------- 0.8/2.2 MB 931.2 kB/s eta 0:00:02\n",
      "   ------------------ --------------------- 1.0/2.2 MB 1.0 MB/s eta 0:00:02\n",
      "   ----------------------- ---------------- 1.3/2.2 MB 1.0 MB/s eta 0:00:01\n",
      "   ---------------------------- ----------- 1.6/2.2 MB 1.0 MB/s eta 0:00:01\n",
      "   -------------------------------- ------- 1.8/2.2 MB 1.1 MB/s eta 0:00:01\n",
      "   ------------------------------------- -- 2.1/2.2 MB 1.0 MB/s eta 0:00:01\n",
      "   ------------------------------------- -- 2.1/2.2 MB 1.0 MB/s eta 0:00:01\n",
      "   ---------------------------------------- 2.2/2.2 MB 964.6 kB/s eta 0:00:00\n",
      "Downloading kiwisolver-1.4.8-cp312-cp312-win_amd64.whl (71 kB)\n",
      "Downloading pillow-11.2.1-cp312-cp312-win_amd64.whl (2.7 MB)\n",
      "   ---------------------------------------- 0.0/2.7 MB ? eta -:--:--\n",
      "   ---------------------------------------- 0.0/2.7 MB ? eta -:--:--\n",
      "   ---------------------------------------- 0.0/2.7 MB ? eta -:--:--\n",
      "   --- ------------------------------------ 0.3/2.7 MB ? eta -:--:--\n",
      "   --- ------------------------------------ 0.3/2.7 MB ? eta -:--:--\n",
      "   ------- -------------------------------- 0.5/2.7 MB 560.1 kB/s eta 0:00:04\n",
      "   ------- -------------------------------- 0.5/2.7 MB 560.1 kB/s eta 0:00:04\n",
      "   ------- -------------------------------- 0.5/2.7 MB 560.1 kB/s eta 0:00:04\n",
      "   ----------- ---------------------------- 0.8/2.7 MB 479.7 kB/s eta 0:00:04\n",
      "   ----------- ---------------------------- 0.8/2.7 MB 479.7 kB/s eta 0:00:04\n",
      "   --------------- ------------------------ 1.0/2.7 MB 524.3 kB/s eta 0:00:04\n",
      "   --------------- ------------------------ 1.0/2.7 MB 524.3 kB/s eta 0:00:04\n",
      "   ------------------- -------------------- 1.3/2.7 MB 536.9 kB/s eta 0:00:03\n",
      "   ------------------- -------------------- 1.3/2.7 MB 536.9 kB/s eta 0:00:03\n",
      "   ------------------- -------------------- 1.3/2.7 MB 536.9 kB/s eta 0:00:03\n",
      "   ------------------- -------------------- 1.3/2.7 MB 536.9 kB/s eta 0:00:03\n",
      "   ----------------------- ---------------- 1.6/2.7 MB 487.8 kB/s eta 0:00:03\n",
      "   ----------------------- ---------------- 1.6/2.7 MB 487.8 kB/s eta 0:00:03\n",
      "   ----------------------- ---------------- 1.6/2.7 MB 487.8 kB/s eta 0:00:03\n",
      "   --------------------------- ------------ 1.8/2.7 MB 477.2 kB/s eta 0:00:02\n",
      "   --------------------------- ------------ 1.8/2.7 MB 477.2 kB/s eta 0:00:02\n",
      "   ------------------------------- -------- 2.1/2.7 MB 497.7 kB/s eta 0:00:02\n",
      "   ----------------------------------- ---- 2.4/2.7 MB 524.3 kB/s eta 0:00:01\n",
      "   ----------------------------------- ---- 2.4/2.7 MB 524.3 kB/s eta 0:00:01\n",
      "   ---------------------------------------- 2.7/2.7 MB 553.9 kB/s eta 0:00:00\n",
      "Downloading pyparsing-3.2.3-py3-none-any.whl (111 kB)\n",
      "Installing collected packages: pyparsing, pillow, kiwisolver, fonttools, cycler, contourpy, matplotlib\n",
      "Successfully installed contourpy-1.3.2 cycler-0.12.1 fonttools-4.58.4 kiwisolver-1.4.8 matplotlib-3.10.3 pillow-11.2.1 pyparsing-3.2.3\n",
      "Note: you may need to restart the kernel to use updated packages.\n"
     ]
    },
    {
     "name": "stderr",
     "output_type": "stream",
     "text": [
      "\n",
      "[notice] A new release of pip is available: 24.2 -> 25.1.1\n",
      "[notice] To update, run: C:\\Users\\KHUSHI\\AppData\\Local\\Programs\\Python\\Python312\\python.exe -m pip install --upgrade pip\n"
     ]
    }
   ],
   "source": [
    "pip install matplotlib"
   ]
  },
  {
   "cell_type": "code",
   "execution_count": 99,
   "id": "702a6e42-0937-4a3f-82d2-15a7e178b5be",
   "metadata": {},
   "outputs": [
    {
     "name": "stdout",
     "output_type": "stream",
     "text": [
      "Requirement already satisfied: pandas in c:\\users\\khushi\\appdata\\local\\programs\\python\\python312\\lib\\site-packages (2.3.0)\n",
      "Requirement already satisfied: numpy>=1.26.0 in c:\\users\\khushi\\appdata\\roaming\\python\\python312\\site-packages (from pandas) (2.0.0)\n",
      "Requirement already satisfied: python-dateutil>=2.8.2 in c:\\users\\khushi\\appdata\\roaming\\python\\python312\\site-packages (from pandas) (2.9.0.post0)\n",
      "Requirement already satisfied: pytz>=2020.1 in c:\\users\\khushi\\appdata\\local\\programs\\python\\python312\\lib\\site-packages (from pandas) (2025.2)\n",
      "Requirement already satisfied: tzdata>=2022.7 in c:\\users\\khushi\\appdata\\local\\programs\\python\\python312\\lib\\site-packages (from pandas) (2025.2)\n",
      "Requirement already satisfied: six>=1.5 in c:\\users\\khushi\\appdata\\roaming\\python\\python312\\site-packages (from python-dateutil>=2.8.2->pandas) (1.16.0)\n",
      "Note: you may need to restart the kernel to use updated packages.\n"
     ]
    },
    {
     "name": "stderr",
     "output_type": "stream",
     "text": [
      "\n",
      "[notice] A new release of pip is available: 24.2 -> 25.1.1\n",
      "[notice] To update, run: C:\\Users\\KHUSHI\\AppData\\Local\\Programs\\Python\\Python312\\python.exe -m pip install --upgrade pip\n"
     ]
    }
   ],
   "source": [
    "pip install pandas"
   ]
  },
  {
   "cell_type": "code",
   "execution_count": 63,
   "id": "698442e6-8e14-4598-ad88-3256fd637ad4",
   "metadata": {},
   "outputs": [
    {
     "name": "stdout",
     "output_type": "stream",
     "text": [
      "Requirement already satisfied: matplotlib in c:\\users\\khushi\\appdata\\local\\programs\\python\\python312\\lib\\site-packages (3.10.3)\n",
      "Requirement already satisfied: contourpy>=1.0.1 in c:\\users\\khushi\\appdata\\local\\programs\\python\\python312\\lib\\site-packages (from matplotlib) (1.3.2)\n",
      "Requirement already satisfied: cycler>=0.10 in c:\\users\\khushi\\appdata\\local\\programs\\python\\python312\\lib\\site-packages (from matplotlib) (0.12.1)\n",
      "Requirement already satisfied: fonttools>=4.22.0 in c:\\users\\khushi\\appdata\\local\\programs\\python\\python312\\lib\\site-packages (from matplotlib) (4.58.4)\n",
      "Requirement already satisfied: kiwisolver>=1.3.1 in c:\\users\\khushi\\appdata\\local\\programs\\python\\python312\\lib\\site-packages (from matplotlib) (1.4.8)\n",
      "Requirement already satisfied: numpy>=1.23 in c:\\users\\khushi\\appdata\\roaming\\python\\python312\\site-packages (from matplotlib) (2.0.0)\n",
      "Requirement already satisfied: packaging>=20.0 in c:\\users\\khushi\\appdata\\local\\programs\\python\\python312\\lib\\site-packages (from matplotlib) (24.0)\n",
      "Requirement already satisfied: pillow>=8 in c:\\users\\khushi\\appdata\\local\\programs\\python\\python312\\lib\\site-packages (from matplotlib) (11.2.1)\n",
      "Requirement already satisfied: pyparsing>=2.3.1 in c:\\users\\khushi\\appdata\\local\\programs\\python\\python312\\lib\\site-packages (from matplotlib) (3.2.3)\n",
      "Requirement already satisfied: python-dateutil>=2.7 in c:\\users\\khushi\\appdata\\roaming\\python\\python312\\site-packages (from matplotlib) (2.9.0.post0)\n",
      "Requirement already satisfied: six>=1.5 in c:\\users\\khushi\\appdata\\roaming\\python\\python312\\site-packages (from python-dateutil>=2.7->matplotlib) (1.16.0)\n",
      "Note: you may need to restart the kernel to use updated packages.\n"
     ]
    },
    {
     "name": "stderr",
     "output_type": "stream",
     "text": [
      "\n",
      "[notice] A new release of pip is available: 24.2 -> 25.1.1\n",
      "[notice] To update, run: C:\\Users\\KHUSHI\\AppData\\Local\\Programs\\Python\\Python312\\python.exe -m pip install --upgrade pip\n"
     ]
    }
   ],
   "source": [
    "pip install matplotlib"
   ]
  },
  {
   "cell_type": "code",
   "execution_count": 73,
   "id": "a4cdefa1-8558-4d83-9b7b-4b458c917102",
   "metadata": {},
   "outputs": [],
   "source": [
    "import matplotlib as plt"
   ]
  },
  {
   "cell_type": "code",
   "execution_count": 82,
   "id": "a8f9b6c0-a4ad-4ed4-8ef9-ecc16a379f02",
   "metadata": {},
   "outputs": [],
   "source": [
    "import numpy as np"
   ]
  },
  {
   "cell_type": "code",
   "execution_count": 100,
   "id": "0874c08c-e5a6-4bc1-a0ea-319cdd3d27d6",
   "metadata": {},
   "outputs": [],
   "source": [
    "import pandas as pd"
   ]
  },
  {
   "cell_type": "markdown",
   "id": "8e7a066c-bc84-4f01-98d9-a4023aea33a4",
   "metadata": {},
   "source": [
    "# Task 1.1: Simple Harmonic Motion"
   ]
  },
  {
   "cell_type": "markdown",
   "id": "e6dcd241-98c6-46d1-acbd-ebdfe77d385f",
   "metadata": {},
   "source": [
    "### Simulate simple harmonic motion of a mass-spring system, Calculate displacement vs. time and Implement a for loop to iterate over time steps. Use different masses using conditional statements"
   ]
  },
  {
   "cell_type": "code",
   "execution_count": 102,
   "id": "30d57bf8-f582-4338-bab7-0b2b39e4cd6f",
   "metadata": {},
   "outputs": [
    {
     "name": "stdin",
     "output_type": "stream",
     "text": [
      "Enter the ampunt of mass from (A) 10Kg (B) 20Kg (C) 30Kg (D) Other amount 20\n"
     ]
    }
   ],
   "source": [
    "# import numpy as np\n",
    "time = np.array((0, 1, 2, 3, 4, 5, 6, 7, 8, 9), dtype=np.int32)# in secs\n",
    "\n",
    "k = 10 # in Newton per Metre (N/m)\n",
    "psi = 0 # phase shift\n",
    "A = 10 # amplitude\n",
    "\n",
    "\n",
    "m = int(input(\"Enter the ampunt of mass from (A) 10Kg (B) 20Kg (C) 30Kg (D) Other amount\"))"
   ]
  },
  {
   "cell_type": "code",
   "execution_count": 103,
   "id": "f8e18e60-349a-4a64-84a0-09cf30bcbd53",
   "metadata": {},
   "outputs": [],
   "source": [
    "# The equation for simple harmonic motion for a mass-spring system.\n",
    "X = A*np.cos(np.sqrt(k/m)*time + psi)"
   ]
  },
  {
   "cell_type": "code",
   "execution_count": 104,
   "id": "7d0c8fdc-64c9-42be-a77a-367836cf6932",
   "metadata": {},
   "outputs": [
    {
     "name": "stdout",
     "output_type": "stream",
     "text": [
      "The mass is 20 Kg and the distance is: 10.0  metres and time is: 0 secs\n",
      "The mass is 20 Kg and the distance is: 8.0  metres and time is: 1 secs\n",
      "The mass is 20 Kg and the distance is: 2.0  metres and time is: 2 secs\n",
      "The mass is 20 Kg and the distance is: -5.0  metres and time is: 3 secs\n",
      "The mass is 20 Kg and the distance is: -10.0  metres and time is: 4 secs\n",
      "The mass is 20 Kg and the distance is: -9.0  metres and time is: 5 secs\n",
      "The mass is 20 Kg and the distance is: -5.0  metres and time is: 6 secs\n",
      "The mass is 20 Kg and the distance is: 2.0  metres and time is: 7 secs\n",
      "The mass is 20 Kg and the distance is: 8.0  metres and time is: 8 secs\n",
      "The mass is 20 Kg and the distance is: 10.0  metres and time is: 9 secs\n"
     ]
    }
   ],
   "source": [
    "\n",
    "for i in time:\n",
    "    if m==10:\n",
    "        X = A*np.cos(np.sqrt(k/m)*time + psi)\n",
    "        X[i] = A*np.cos(np.sqrt(k/m)*time[i] + psi)\n",
    "        b = np.round(X[i])\n",
    "        print(\"The mass is\" + \" \"+ str(m) + \" \" +\"Kg\" + \" \" +\"and the distance is:\" + \" \" + str(b) + \" \" + \" metres\" + \" \" +\"and time is:\"  + \" \" +str(i) + \" \" + \"secs\")\n",
    "    elif m==20:\n",
    "        X = A*np.cos(np.sqrt(k/m)*time + psi)\n",
    "        X[i] = A*np.cos(np.sqrt(k/m)*time[i] + psi)\n",
    "        b = np.round(X[i])\n",
    "        print(\"The mass is\" + \" \"+ str(m) + \" \" +\"Kg\" + \" \" +\"and the distance is:\" + \" \" + str(b) + \" \" + \" metres\" + \" \" +\"and time is:\"  + \" \" +str(i) + \" \" + \"secs\")\n",
    "    elif m==30:\n",
    "        X = A*np.cos(np.sqrt(k/m)*time + psi)\n",
    "        X[i] = A*np.cos(np.sqrt(k/m)*time[i] + psi)\n",
    "        b = np.round(X[i])\n",
    "        print(\"The mass is\" + \" \"+ str(m) + \" \" +\"Kg\" + \" \" +\"and the distance is:\" + \" \" + str(b) + \" \" + \" metres\" + \" \" +\"and time is:\"  + \" \" +str(i) + \" \" + \"secs\")\n",
    "    else:\n",
    "        X = A*np.cos(np.sqrt(k/m)*time + psi)\n",
    "        X[i] = A*np.cos(np.sqrt(k/m)*time[i] + psi)\n",
    "        b = np.round(X[i])\n",
    "        print(\"The mass is\" + \" \"+ str(m) + \" \" +\"Kg\" + \" \" +\"and the distance is:\" + \" \" + str(b) + \" \" + \" metres\" + \" \" +\"and time is:\"  + \" \" +str(i) + \" \" + \"secs\")"
   ]
  },
  {
   "cell_type": "markdown",
   "id": "e027393c-99ff-4abc-965f-edf0f1adc1c8",
   "metadata": {},
   "source": [
    "# Task 1.2: Projectile Motion\n"
   ]
  },
  {
   "cell_type": "markdown",
   "id": "f62baf6c-503e-4db4-932f-094738ae812d",
   "metadata": {},
   "source": [
    "### Simulate the projectile motion of an object launched at an angle.\n",
    "### Calculate the trajectory (x vs. y).\n",
    "### Use an if-else condition to detect when the object hits the ground."
   ]
  },
  {
   "cell_type": "code",
   "execution_count": 109,
   "id": "7bb921d7-8861-4b72-8fc0-1cc990049d06",
   "metadata": {},
   "outputs": [
    {
     "name": "stdin",
     "output_type": "stream",
     "text": [
      "Please enter a value for horizontal velocity 30\n",
      "Please enter a value for vertical velocity 45\n"
     ]
    }
   ],
   "source": [
    "\n",
    "time = np.array((0, 1, 2, 3, 4, 5, 6, 7, 8, 9), dtype=np.int32) # in secs (s)\n",
    "vxo = int(input(\"Please enter a value for horizontal velocity\")) # in metre per sec (m/s)\n",
    "vyo = int(input(\"Please enter a value for vertical velocity\")) #I prefer 45 ; in metre per sec (m/s)\n",
    "g = 10 # in metre per second square (m/s^2)\n",
    "theta = 30 # in radians "
   ]
  },
  {
   "cell_type": "code",
   "execution_count": 110,
   "id": "068686f7-2846-4750-bd15-f84359d809f2",
   "metadata": {},
   "outputs": [],
   "source": [
    "    X= vxo*time\n",
    "    Y= vyo*time-(1/2)*g*(time)**2"
   ]
  },
  {
   "cell_type": "code",
   "execution_count": 111,
   "id": "33405a65-2126-4fed-9ab9-5bd5cb94b3c6",
   "metadata": {},
   "outputs": [
    {
     "name": "stdout",
     "output_type": "stream",
     "text": [
      "The value of X is: 0 metres and the value of Y is: 0.0 metres at time: 0 secs\n",
      "The object have hit the ground! at time: 0 and X value of 0\n",
      "The value of X is: 30 metres and the value of Y is: 40.0 metres at time: 1 secs\n",
      "Oh! looks like the ball is still in the air\n",
      "The value of X is: 60 metres and the value of Y is: 70.0 metres at time: 2 secs\n",
      "Oh! looks like the ball is still in the air\n",
      "The value of X is: 90 metres and the value of Y is: 90.0 metres at time: 3 secs\n",
      "Oh! looks like the ball is still in the air\n",
      "The value of X is: 120 metres and the value of Y is: 100.0 metres at time: 4 secs\n",
      "Oh! looks like the ball is still in the air\n",
      "The value of X is: 150 metres and the value of Y is: 100.0 metres at time: 5 secs\n",
      "Oh! looks like the ball is still in the air\n",
      "The value of X is: 180 metres and the value of Y is: 90.0 metres at time: 6 secs\n",
      "Oh! looks like the ball is still in the air\n",
      "The value of X is: 210 metres and the value of Y is: 70.0 metres at time: 7 secs\n",
      "Oh! looks like the ball is still in the air\n",
      "The value of X is: 240 metres and the value of Y is: 40.0 metres at time: 8 secs\n",
      "Oh! looks like the ball is still in the air\n",
      "The value of X is: 270 metres and the value of Y is: 0.0 metres at time: 9 secs\n",
      "The object have hit the ground! at time: 9 and X value of 270\n"
     ]
    }
   ],
   "source": [
    "\n",
    "for i in time:\n",
    "    X[i]= vxo*time[i]\n",
    "    Y[i]= vyo*time[i]-(1/2)*g*time[i]**2\n",
    "    print(\"The value of X is:\" + \" \" + str(X[i]) + \" \" +\"metres\" +\" \" + \"and the value of Y is:\" + \" \" + str(Y[i]) + \" \" +\"metres\" +\" \" + \"at time:\" + \" \" +str(i) +\" \" + \"secs\")\n",
    "    if Y[i]==0:\n",
    "        print(\"The object have hit the ground! at time:\" +\" \" +str(i) + \" \" + \"and X value of\" + \" \" +str(X[i]))\n",
    "    else:\n",
    "        print(\"Oh! looks like the ball is still in the air\")\n",
    "\n"
   ]
  },
  {
   "cell_type": "markdown",
   "id": "f3bcdbe1-0508-4336-bf56-1354661dce16",
   "metadata": {},
   "source": [
    "# Task 1.3: Planetary Motion (Basic Simulation)\n",
    "\n"
   ]
  },
  {
   "cell_type": "markdown",
   "id": "a5542fae-9e8d-42c4-939c-d547f8ac92e5",
   "metadata": {},
   "source": [
    "### Simulate the circular or elliptical motion of a planet around the Sun (assume basic constant angular velocity or use simple gravitational formula).\n",
    "### Compute the orbit of the planet.\n",
    "### Use a while loop to simulate continuous motion until one full orbit is completed.\n",
    "\n"
   ]
  },
  {
   "cell_type": "markdown",
   "id": "13f74df9-a06c-44a3-a79e-bcc73a438c12",
   "metadata": {},
   "source": [
    "# Task 1.4: Matrix Multiplication"
   ]
  },
  {
   "cell_type": "markdown",
   "id": "f7fb8842-dcbc-4d54-8d85-05a108621665",
   "metadata": {},
   "source": [
    "\n",
    "### Write a Python program using NumPy to perform matrix multiplication.\n",
    "### Define two matrices of compatible sizes using numpy.array().\n"
   ]
  },
  {
   "cell_type": "code",
   "execution_count": 112,
   "id": "6d2ad4be-d1b6-471a-9576-f87ee17a8fb2",
   "metadata": {},
   "outputs": [],
   "source": [
    "matrix1 = np.array([[1,2,3], [4,5,6]])\n",
    "matrix2 = np.array([[4,5], [7,6]])"
   ]
  },
  {
   "cell_type": "markdown",
   "id": "4d6c66ab-676f-4227-b9c7-f64c83adcd62",
   "metadata": {},
   "source": [
    "\n",
    "### Multiply them using:\n",
    "### 1) The @ operator, and\n"
   ]
  },
  {
   "cell_type": "code",
   "execution_count": 113,
   "id": "e0c08c5b-18ff-4004-9e71-925649d0030f",
   "metadata": {},
   "outputs": [
    {
     "name": "stdout",
     "output_type": "stream",
     "text": [
      "The matrix is: [[24 33 42]\n",
      " [31 44 57]]\n"
     ]
    }
   ],
   "source": [
    "matrix3 = matrix2 @ matrix1\n",
    "print(\"The matrix is:\", matrix3)"
   ]
  },
  {
   "cell_type": "markdown",
   "id": "d490c3f6-6d8f-4f74-8f17-75482a196314",
   "metadata": {},
   "source": [
    "### 2) The numpy.dot() function.\n",
    "### Display the original matrices and the resulting product matrix."
   ]
  },
  {
   "cell_type": "code",
   "execution_count": 114,
   "id": "51c0407a-5fab-42d3-8f72-230941b6d8dc",
   "metadata": {},
   "outputs": [
    {
     "name": "stdout",
     "output_type": "stream",
     "text": [
      "[[24 33 42]\n",
      " [31 44 57]]\n"
     ]
    }
   ],
   "source": [
    "matrix4 = np.dot(matrix2, matrix1)\n",
    "print(matrix4)"
   ]
  },
  {
   "cell_type": "code",
   "execution_count": 115,
   "id": "cc320345-17e4-416f-aed0-01c00e4a220d",
   "metadata": {},
   "outputs": [
    {
     "name": "stdout",
     "output_type": "stream",
     "text": [
      "Matrix 1 is: [[1 2 3]\n",
      " [4 5 6]]\n",
      "Matrix 2 is: [[4 5]\n",
      " [7 6]]\n",
      "Matrices after multiplication using @ operator is: [[24 33 42]\n",
      " [31 44 57]]\n",
      "Matrices after multiplication using numpy.dot() function is: [[24 33 42]\n",
      " [31 44 57]]\n"
     ]
    }
   ],
   "source": [
    "print(\"Matrix 1 is:\", matrix1)\n",
    "print(\"Matrix 2 is:\", matrix2)\n",
    "print(\"Matrices after multiplication using @ operator is:\", matrix3)\n",
    "print(\"Matrices after multiplication using numpy.dot() function is:\", matrix4)"
   ]
  },
  {
   "cell_type": "markdown",
   "id": "621f6472-9613-4f93-8ff6-25799e8d4033",
   "metadata": {},
   "source": [
    "# Part 2 - Pandas and Matplotlib\n"
   ]
  },
  {
   "cell_type": "markdown",
   "id": "6fb441c1-47e5-40e5-a09c-e32758c48184",
   "metadata": {},
   "source": [
    "\n",
    "### Dataset Description (Dataset Provided in the Assignment Folder)\n",
    "### Assume you have a file named student data.csv with the following columns:\n",
    "### Name; Age; Gender (Male/Female); City; Physics, Chemistry, Mathematics (marks out of 100) ; Attendance (in percentage); Tasks"
   ]
  },
  {
   "cell_type": "code",
   "execution_count": 219,
   "id": "52603f0f-dc4f-47cb-aea7-70fa5d5aa493",
   "metadata": {},
   "outputs": [],
   "source": [
    "import pandas as pd"
   ]
  },
  {
   "cell_type": "code",
   "execution_count": 238,
   "id": "b2914156-28a1-48b1-ae17-4ed7ba569ebf",
   "metadata": {},
   "outputs": [],
   "source": [
    "df = pd.read_csv(\"C:/Users/KHUSHI/Desktop/Jupyter/student_data1.csv\", delimiter=';')"
   ]
  },
  {
   "cell_type": "code",
   "execution_count": 239,
   "id": "e09dd9c1-58a2-465a-a0b5-0b940ba57f1c",
   "metadata": {},
   "outputs": [],
   "source": [
    "df = pd.read_csv(\"C:/Users/KHUSHI/Desktop/Jupyter/student_data1.csv\", header=None)"
   ]
  },
  {
   "cell_type": "code",
   "execution_count": 240,
   "id": "1054d917-35a0-48dd-8675-d9cb35799628",
   "metadata": {},
   "outputs": [
    {
     "name": "stdout",
     "output_type": "stream",
     "text": [
      "             0    1       2          3        4          5            6  \\\n",
      "0         Name  Age  Gender       City  Physics  Chemistry  Mathematics   \n",
      "1    Student_1   20    Male     Mumbai       76         82           26   \n",
      "2    Student_2   21  Female     Mumbai       32         76           35   \n",
      "3    Student_3   18    Male    Kolkata       30         36           79   \n",
      "4    Student_4   20  Female     Mumbai       34         63           21   \n",
      "5    Student_5   20    Male     Mumbai       43         26           20   \n",
      "6    Student_6   21  Female    Kolkata       56         27           67   \n",
      "7    Student_7   18  Female    Kolkata       38         80           31   \n",
      "8    Student_8   18    Male      Delhi       44         83           88   \n",
      "9    Student_9   20    Male  Bangalore       71         26           56   \n",
      "10  Student_10   19    Male  Bangalore       80         26           51   \n",
      "11  Student_11   20    Male     Mumbai       92         78           28   \n",
      "12  Student_12   20    Male  Bangalore       81         25           38   \n",
      "13  Student_13   20    Male     Mumbai       33         43           67   \n",
      "14  Student_14   20    Male      Delhi       52         26           99   \n",
      "15  Student_15   21    Male    Kolkata       44         77           22   \n",
      "16  Student_16   18  Female    Kolkata       72         68           39   \n",
      "17  Student_17   21  Female    Kolkata       58         56           43   \n",
      "18  Student_18   21    Male  Bangalore       65         94           73   \n",
      "19  Student_19   21  Female      Delhi       42         56           52   \n",
      "20  Student_20   20  Female  Bangalore       61         92           43   \n",
      "21  Student_21   19  Female  Bangalore       88         79           94   \n",
      "22  Student_22   18  Female      Delhi       57         80           91   \n",
      "23  Student_23   19    Male      Delhi       95         41           55   \n",
      "24  Student_24   21  Female      Delhi       71         62           57   \n",
      "25  Student_25   21    Male      Delhi       74         48           44   \n",
      "26  Student_26   19  Female    Kolkata       91         93           37   \n",
      "27  Student_27   19  Female    Chennai       86         94           85   \n",
      "28  Student_28   19  Female    Chennai       35         35           73   \n",
      "29  Student_29   21    Male      Delhi       57         40           54   \n",
      "30  Student_30   21  Female    Chennai       57         83           99   \n",
      "31  Student_31   18    Male    Chennai       73         94           80   \n",
      "32  Student_32   18  Female      Delhi       59         27           60   \n",
      "33  Student_33   21    Male    Chennai       91         44           52   \n",
      "34  Student_34   19  Female  Bangalore       91         83           87   \n",
      "35  Student_35   19    Male     Mumbai       30         60           52   \n",
      "36  Student_36   18    Male     Mumbai       56         43           33   \n",
      "37  Student_37   21  Female      Delhi       91         91           40   \n",
      "38  Student_38   18    Male    Kolkata       32         43           67   \n",
      "39  Student_39   18  Female      Delhi       99         44           39   \n",
      "40  Student_40   20  Female    Kolkata       56         76           27   \n",
      "41  Student_41   20  Female     Mumbai       38         57           26   \n",
      "42  Student_42   20  Female      Delhi       91         64           86   \n",
      "43  Student_43   19  Female  Bangalore       66         63           36   \n",
      "44  Student_44   21  Female    Chennai       80         25           52   \n",
      "45  Student_45   21  Female    Kolkata       73         35           67   \n",
      "46  Student_46   21  Female    Chennai       53         81           95   \n",
      "47  Student_47   21  Female    Chennai       88         74           78   \n",
      "48  Student_48   20  Female      Delhi       61         47           41   \n",
      "49  Student_49   19  Female    Chennai       81         55           49   \n",
      "50  Student_50   19    Male  Bangalore       91         66           57   \n",
      "\n",
      "             7  \n",
      "0   Attendance  \n",
      "1        99.16  \n",
      "2        79.47  \n",
      "3        96.24  \n",
      "4        77.38  \n",
      "5         74.0  \n",
      "6         85.8  \n",
      "7        86.76  \n",
      "8        94.57  \n",
      "9        69.21  \n",
      "10       79.97  \n",
      "11       82.88  \n",
      "12       90.74  \n",
      "13       61.74  \n",
      "14       99.78  \n",
      "15        78.8  \n",
      "16       71.18  \n",
      "17       95.34  \n",
      "18       89.91  \n",
      "19       98.12  \n",
      "20       73.23  \n",
      "21       82.11  \n",
      "22       82.89  \n",
      "23       99.21  \n",
      "24       63.01  \n",
      "25       72.23  \n",
      "26       67.64  \n",
      "27       70.74  \n",
      "28       79.41  \n",
      "29       74.91  \n",
      "30       75.79  \n",
      "31       93.77  \n",
      "32        97.2  \n",
      "33       62.82  \n",
      "34       68.36  \n",
      "35       86.85  \n",
      "36       74.35  \n",
      "37       70.17  \n",
      "38       71.81  \n",
      "39        72.9  \n",
      "40       93.95  \n",
      "41       65.46  \n",
      "42       88.36  \n",
      "43       82.11  \n",
      "44       71.86  \n",
      "45       76.79  \n",
      "46       70.25  \n",
      "47       84.46  \n",
      "48       63.26  \n",
      "49       60.21  \n",
      "50       85.12  \n"
     ]
    }
   ],
   "source": [
    "print(df)"
   ]
  },
  {
   "cell_type": "code",
   "execution_count": 241,
   "id": "cd67456a-0e1c-43b8-84af-c7963ab04386",
   "metadata": {},
   "outputs": [
    {
     "name": "stdout",
     "output_type": "stream",
     "text": [
      "        0      1      2      3      4      5      6      7\n",
      "0   False  False  False  False  False  False  False  False\n",
      "1   False  False  False  False  False  False  False  False\n",
      "2   False  False  False  False  False  False  False  False\n",
      "3   False  False  False  False  False  False  False  False\n",
      "4   False  False  False  False  False  False  False  False\n",
      "5   False  False  False  False  False  False  False  False\n",
      "6   False  False  False  False  False  False  False  False\n",
      "7   False  False  False  False  False  False  False  False\n",
      "8   False  False  False  False  False  False  False  False\n",
      "9   False  False  False  False  False  False  False  False\n",
      "10  False  False  False  False  False  False  False  False\n",
      "11  False  False  False  False  False  False  False  False\n",
      "12  False  False  False  False  False  False  False  False\n",
      "13  False  False  False  False  False  False  False  False\n",
      "14  False  False  False  False  False  False  False  False\n",
      "15  False  False  False  False  False  False  False  False\n",
      "16  False  False  False  False  False  False  False  False\n",
      "17  False  False  False  False  False  False  False  False\n",
      "18  False  False  False  False  False  False  False  False\n",
      "19  False  False  False  False  False  False  False  False\n",
      "20  False  False  False  False  False  False  False  False\n",
      "21  False  False  False  False  False  False  False  False\n",
      "22  False  False  False  False  False  False  False  False\n",
      "23  False  False  False  False  False  False  False  False\n",
      "24  False  False  False  False  False  False  False  False\n",
      "25  False  False  False  False  False  False  False  False\n",
      "26  False  False  False  False  False  False  False  False\n",
      "27  False  False  False  False  False  False  False  False\n",
      "28  False  False  False  False  False  False  False  False\n",
      "29  False  False  False  False  False  False  False  False\n",
      "30  False  False  False  False  False  False  False  False\n",
      "31  False  False  False  False  False  False  False  False\n",
      "32  False  False  False  False  False  False  False  False\n",
      "33  False  False  False  False  False  False  False  False\n",
      "34  False  False  False  False  False  False  False  False\n",
      "35  False  False  False  False  False  False  False  False\n",
      "36  False  False  False  False  False  False  False  False\n",
      "37  False  False  False  False  False  False  False  False\n",
      "38  False  False  False  False  False  False  False  False\n",
      "39  False  False  False  False  False  False  False  False\n",
      "40  False  False  False  False  False  False  False  False\n",
      "41  False  False  False  False  False  False  False  False\n",
      "42  False  False  False  False  False  False  False  False\n",
      "43  False  False  False  False  False  False  False  False\n",
      "44  False  False  False  False  False  False  False  False\n",
      "45  False  False  False  False  False  False  False  False\n",
      "46  False  False  False  False  False  False  False  False\n",
      "47  False  False  False  False  False  False  False  False\n",
      "48  False  False  False  False  False  False  False  False\n",
      "49  False  False  False  False  False  False  False  False\n",
      "50  False  False  False  False  False  False  False  False\n",
      "<class 'pandas.core.frame.DataFrame'>\n",
      "RangeIndex: 51 entries, 0 to 50\n",
      "Data columns (total 8 columns):\n",
      " #   Column  Non-Null Count  Dtype \n",
      "---  ------  --------------  ----- \n",
      " 0   0       51 non-null     object\n",
      " 1   1       51 non-null     object\n",
      " 2   2       51 non-null     object\n",
      " 3   3       51 non-null     object\n",
      " 4   4       51 non-null     object\n",
      " 5   5       51 non-null     object\n",
      " 6   6       51 non-null     object\n",
      " 7   7       51 non-null     object\n",
      "dtypes: object(8)\n",
      "memory usage: 3.3+ KB\n"
     ]
    }
   ],
   "source": [
    "print(df.isnull())\n",
    "df.info()"
   ]
  },
  {
   "cell_type": "code",
   "execution_count": 242,
   "id": "387cd64d-0037-4cc5-a01c-922f247ce6d7",
   "metadata": {},
   "outputs": [
    {
     "name": "stdout",
     "output_type": "stream",
     "text": [
      "0    0\n",
      "1    0\n",
      "2    0\n",
      "3    0\n",
      "4    0\n",
      "5    0\n",
      "6    0\n",
      "7    0\n",
      "dtype: int64\n"
     ]
    }
   ],
   "source": [
    "print(df.isnull().sum())"
   ]
  },
  {
   "cell_type": "code",
   "execution_count": 243,
   "id": "97198aa2-a008-4fa8-b343-fef6a19b7c77",
   "metadata": {},
   "outputs": [
    {
     "name": "stdout",
     "output_type": "stream",
     "text": [
      "<class 'pandas.core.frame.DataFrame'>\n",
      "RangeIndex: 51 entries, 0 to 50\n",
      "Data columns (total 8 columns):\n",
      " #   Column  Non-Null Count  Dtype \n",
      "---  ------  --------------  ----- \n",
      " 0   0       51 non-null     object\n",
      " 1   1       51 non-null     object\n",
      " 2   2       51 non-null     object\n",
      " 3   3       51 non-null     object\n",
      " 4   4       51 non-null     object\n",
      " 5   5       51 non-null     object\n",
      " 6   6       51 non-null     object\n",
      " 7   7       51 non-null     object\n",
      "dtypes: object(8)\n",
      "memory usage: 3.3+ KB\n"
     ]
    }
   ],
   "source": [
    "df.info()"
   ]
  },
  {
   "cell_type": "code",
   "execution_count": 247,
   "id": "c4dc925e-38b6-42b3-9d11-d1f7f8b0d564",
   "metadata": {},
   "outputs": [
    {
     "ename": "KeyError",
     "evalue": "'Physics'",
     "output_type": "error",
     "traceback": [
      "\u001b[1;31m---------------------------------------------------------------------------\u001b[0m",
      "\u001b[1;31mKeyError\u001b[0m                                  Traceback (most recent call last)",
      "File \u001b[1;32m~\\AppData\\Local\\Programs\\Python\\Python312\\Lib\\site-packages\\pandas\\core\\indexes\\base.py:3812\u001b[0m, in \u001b[0;36mIndex.get_loc\u001b[1;34m(self, key)\u001b[0m\n\u001b[0;32m   3811\u001b[0m \u001b[38;5;28;01mtry\u001b[39;00m:\n\u001b[1;32m-> 3812\u001b[0m     \u001b[38;5;28;01mreturn\u001b[39;00m \u001b[38;5;28;43mself\u001b[39;49m\u001b[38;5;241;43m.\u001b[39;49m\u001b[43m_engine\u001b[49m\u001b[38;5;241;43m.\u001b[39;49m\u001b[43mget_loc\u001b[49m\u001b[43m(\u001b[49m\u001b[43mcasted_key\u001b[49m\u001b[43m)\u001b[49m\n\u001b[0;32m   3813\u001b[0m \u001b[38;5;28;01mexcept\u001b[39;00m \u001b[38;5;167;01mKeyError\u001b[39;00m \u001b[38;5;28;01mas\u001b[39;00m err:\n",
      "File \u001b[1;32mpandas/_libs/index.pyx:167\u001b[0m, in \u001b[0;36mpandas._libs.index.IndexEngine.get_loc\u001b[1;34m()\u001b[0m\n",
      "File \u001b[1;32mpandas/_libs/index.pyx:175\u001b[0m, in \u001b[0;36mpandas._libs.index.IndexEngine.get_loc\u001b[1;34m()\u001b[0m\n",
      "File \u001b[1;32mpandas/_libs/index_class_helper.pxi:70\u001b[0m, in \u001b[0;36mpandas._libs.index.Int64Engine._check_type\u001b[1;34m()\u001b[0m\n",
      "\u001b[1;31mKeyError\u001b[0m: 'Physics'",
      "\nThe above exception was the direct cause of the following exception:\n",
      "\u001b[1;31mKeyError\u001b[0m                                  Traceback (most recent call last)",
      "Cell \u001b[1;32mIn[247], line 1\u001b[0m\n\u001b[1;32m----> 1\u001b[0m df[\u001b[38;5;124m'\u001b[39m\u001b[38;5;124mAverage_Marks\u001b[39m\u001b[38;5;124m'\u001b[39m] \u001b[38;5;241m=\u001b[39m (\u001b[43mdf\u001b[49m\u001b[43m[\u001b[49m\u001b[38;5;124;43m'\u001b[39;49m\u001b[38;5;124;43mPhysics\u001b[39;49m\u001b[38;5;124;43m'\u001b[39;49m\u001b[43m]\u001b[49m \u001b[38;5;241m+\u001b[39m df[\u001b[38;5;124m'\u001b[39m\u001b[38;5;124mChemistry\u001b[39m\u001b[38;5;124m'\u001b[39m]\u001b[38;5;241m+\u001b[39m df[\u001b[38;5;124m'\u001b[39m\u001b[38;5;124mMathematics\u001b[39m\u001b[38;5;124m'\u001b[39m])\n",
      "File \u001b[1;32m~\\AppData\\Local\\Programs\\Python\\Python312\\Lib\\site-packages\\pandas\\core\\frame.py:4107\u001b[0m, in \u001b[0;36mDataFrame.__getitem__\u001b[1;34m(self, key)\u001b[0m\n\u001b[0;32m   4105\u001b[0m \u001b[38;5;28;01mif\u001b[39;00m \u001b[38;5;28mself\u001b[39m\u001b[38;5;241m.\u001b[39mcolumns\u001b[38;5;241m.\u001b[39mnlevels \u001b[38;5;241m>\u001b[39m \u001b[38;5;241m1\u001b[39m:\n\u001b[0;32m   4106\u001b[0m     \u001b[38;5;28;01mreturn\u001b[39;00m \u001b[38;5;28mself\u001b[39m\u001b[38;5;241m.\u001b[39m_getitem_multilevel(key)\n\u001b[1;32m-> 4107\u001b[0m indexer \u001b[38;5;241m=\u001b[39m \u001b[38;5;28;43mself\u001b[39;49m\u001b[38;5;241;43m.\u001b[39;49m\u001b[43mcolumns\u001b[49m\u001b[38;5;241;43m.\u001b[39;49m\u001b[43mget_loc\u001b[49m\u001b[43m(\u001b[49m\u001b[43mkey\u001b[49m\u001b[43m)\u001b[49m\n\u001b[0;32m   4108\u001b[0m \u001b[38;5;28;01mif\u001b[39;00m is_integer(indexer):\n\u001b[0;32m   4109\u001b[0m     indexer \u001b[38;5;241m=\u001b[39m [indexer]\n",
      "File \u001b[1;32m~\\AppData\\Local\\Programs\\Python\\Python312\\Lib\\site-packages\\pandas\\core\\indexes\\base.py:3819\u001b[0m, in \u001b[0;36mIndex.get_loc\u001b[1;34m(self, key)\u001b[0m\n\u001b[0;32m   3814\u001b[0m     \u001b[38;5;28;01mif\u001b[39;00m \u001b[38;5;28misinstance\u001b[39m(casted_key, \u001b[38;5;28mslice\u001b[39m) \u001b[38;5;129;01mor\u001b[39;00m (\n\u001b[0;32m   3815\u001b[0m         \u001b[38;5;28misinstance\u001b[39m(casted_key, abc\u001b[38;5;241m.\u001b[39mIterable)\n\u001b[0;32m   3816\u001b[0m         \u001b[38;5;129;01mand\u001b[39;00m \u001b[38;5;28many\u001b[39m(\u001b[38;5;28misinstance\u001b[39m(x, \u001b[38;5;28mslice\u001b[39m) \u001b[38;5;28;01mfor\u001b[39;00m x \u001b[38;5;129;01min\u001b[39;00m casted_key)\n\u001b[0;32m   3817\u001b[0m     ):\n\u001b[0;32m   3818\u001b[0m         \u001b[38;5;28;01mraise\u001b[39;00m InvalidIndexError(key)\n\u001b[1;32m-> 3819\u001b[0m     \u001b[38;5;28;01mraise\u001b[39;00m \u001b[38;5;167;01mKeyError\u001b[39;00m(key) \u001b[38;5;28;01mfrom\u001b[39;00m \u001b[38;5;21;01merr\u001b[39;00m\n\u001b[0;32m   3820\u001b[0m \u001b[38;5;28;01mexcept\u001b[39;00m \u001b[38;5;167;01mTypeError\u001b[39;00m:\n\u001b[0;32m   3821\u001b[0m     \u001b[38;5;66;03m# If we have a listlike key, _check_indexing_error will raise\u001b[39;00m\n\u001b[0;32m   3822\u001b[0m     \u001b[38;5;66;03m#  InvalidIndexError. Otherwise we fall through and re-raise\u001b[39;00m\n\u001b[0;32m   3823\u001b[0m     \u001b[38;5;66;03m#  the TypeError.\u001b[39;00m\n\u001b[0;32m   3824\u001b[0m     \u001b[38;5;28mself\u001b[39m\u001b[38;5;241m.\u001b[39m_check_indexing_error(key)\n",
      "\u001b[1;31mKeyError\u001b[0m: 'Physics'"
     ]
    }
   ],
   "source": [
    "df['Average_Marks'] = (df['Physics'] + df['Chemistry']+ df['Mathematics'])"
   ]
  },
  {
   "cell_type": "code",
   "execution_count": 228,
   "id": "0d1d8d70-8374-4361-83d7-e57db819263f",
   "metadata": {},
   "outputs": [
    {
     "ename": "KeyError",
     "evalue": "'Physics'",
     "output_type": "error",
     "traceback": [
      "\u001b[1;31m---------------------------------------------------------------------------\u001b[0m",
      "\u001b[1;31mKeyError\u001b[0m                                  Traceback (most recent call last)",
      "File \u001b[1;32m~\\AppData\\Local\\Programs\\Python\\Python312\\Lib\\site-packages\\pandas\\core\\indexes\\base.py:3812\u001b[0m, in \u001b[0;36mIndex.get_loc\u001b[1;34m(self, key)\u001b[0m\n\u001b[0;32m   3811\u001b[0m \u001b[38;5;28;01mtry\u001b[39;00m:\n\u001b[1;32m-> 3812\u001b[0m     \u001b[38;5;28;01mreturn\u001b[39;00m \u001b[38;5;28;43mself\u001b[39;49m\u001b[38;5;241;43m.\u001b[39;49m\u001b[43m_engine\u001b[49m\u001b[38;5;241;43m.\u001b[39;49m\u001b[43mget_loc\u001b[49m\u001b[43m(\u001b[49m\u001b[43mcasted_key\u001b[49m\u001b[43m)\u001b[49m\n\u001b[0;32m   3813\u001b[0m \u001b[38;5;28;01mexcept\u001b[39;00m \u001b[38;5;167;01mKeyError\u001b[39;00m \u001b[38;5;28;01mas\u001b[39;00m err:\n",
      "File \u001b[1;32mpandas/_libs/index.pyx:167\u001b[0m, in \u001b[0;36mpandas._libs.index.IndexEngine.get_loc\u001b[1;34m()\u001b[0m\n",
      "File \u001b[1;32mpandas/_libs/index.pyx:175\u001b[0m, in \u001b[0;36mpandas._libs.index.IndexEngine.get_loc\u001b[1;34m()\u001b[0m\n",
      "File \u001b[1;32mpandas/_libs/index_class_helper.pxi:70\u001b[0m, in \u001b[0;36mpandas._libs.index.Int64Engine._check_type\u001b[1;34m()\u001b[0m\n",
      "\u001b[1;31mKeyError\u001b[0m: 'Physics'",
      "\nThe above exception was the direct cause of the following exception:\n",
      "\u001b[1;31mKeyError\u001b[0m                                  Traceback (most recent call last)",
      "Cell \u001b[1;32mIn[228], line 1\u001b[0m\n\u001b[1;32m----> 1\u001b[0m df[\u001b[38;5;124m'\u001b[39m\u001b[38;5;124mPass\u001b[39m\u001b[38;5;124m'\u001b[39m] \u001b[38;5;241m=\u001b[39m ((\u001b[43mdf\u001b[49m\u001b[43m[\u001b[49m\u001b[38;5;124;43m'\u001b[39;49m\u001b[38;5;124;43mPhysics\u001b[39;49m\u001b[38;5;124;43m'\u001b[39;49m\u001b[43m]\u001b[49m \u001b[38;5;241m>\u001b[39m\u001b[38;5;241m=\u001b[39m\u001b[38;5;241m40\u001b[39m) \u001b[38;5;241m&\u001b[39m (df[\u001b[38;5;124m'\u001b[39m\u001b[38;5;124mChemistry\u001b[39m\u001b[38;5;124m'\u001b[39m] \u001b[38;5;241m>\u001b[39m\u001b[38;5;241m=\u001b[39m\u001b[38;5;241m40\u001b[39m) \u001b[38;5;241m&\u001b[39m (df[\u001b[38;5;124m'\u001b[39m\u001b[38;5;124mMathematics\u001b[39m\u001b[38;5;124m'\u001b[39m] \u001b[38;5;241m>\u001b[39m\u001b[38;5;241m=\u001b[39m\u001b[38;5;241m40\u001b[39m))\u001b[38;5;241m.\u001b[39mmap({\u001b[38;5;28;01mTrue\u001b[39;00m: \u001b[38;5;124m'\u001b[39m\u001b[38;5;124mYes\u001b[39m\u001b[38;5;124m'\u001b[39m, \u001b[38;5;28;01mFalse\u001b[39;00m: \u001b[38;5;124m'\u001b[39m\u001b[38;5;124mNo\u001b[39m\u001b[38;5;124m'\u001b[39m})\n",
      "File \u001b[1;32m~\\AppData\\Local\\Programs\\Python\\Python312\\Lib\\site-packages\\pandas\\core\\frame.py:4107\u001b[0m, in \u001b[0;36mDataFrame.__getitem__\u001b[1;34m(self, key)\u001b[0m\n\u001b[0;32m   4105\u001b[0m \u001b[38;5;28;01mif\u001b[39;00m \u001b[38;5;28mself\u001b[39m\u001b[38;5;241m.\u001b[39mcolumns\u001b[38;5;241m.\u001b[39mnlevels \u001b[38;5;241m>\u001b[39m \u001b[38;5;241m1\u001b[39m:\n\u001b[0;32m   4106\u001b[0m     \u001b[38;5;28;01mreturn\u001b[39;00m \u001b[38;5;28mself\u001b[39m\u001b[38;5;241m.\u001b[39m_getitem_multilevel(key)\n\u001b[1;32m-> 4107\u001b[0m indexer \u001b[38;5;241m=\u001b[39m \u001b[38;5;28;43mself\u001b[39;49m\u001b[38;5;241;43m.\u001b[39;49m\u001b[43mcolumns\u001b[49m\u001b[38;5;241;43m.\u001b[39;49m\u001b[43mget_loc\u001b[49m\u001b[43m(\u001b[49m\u001b[43mkey\u001b[49m\u001b[43m)\u001b[49m\n\u001b[0;32m   4108\u001b[0m \u001b[38;5;28;01mif\u001b[39;00m is_integer(indexer):\n\u001b[0;32m   4109\u001b[0m     indexer \u001b[38;5;241m=\u001b[39m [indexer]\n",
      "File \u001b[1;32m~\\AppData\\Local\\Programs\\Python\\Python312\\Lib\\site-packages\\pandas\\core\\indexes\\base.py:3819\u001b[0m, in \u001b[0;36mIndex.get_loc\u001b[1;34m(self, key)\u001b[0m\n\u001b[0;32m   3814\u001b[0m     \u001b[38;5;28;01mif\u001b[39;00m \u001b[38;5;28misinstance\u001b[39m(casted_key, \u001b[38;5;28mslice\u001b[39m) \u001b[38;5;129;01mor\u001b[39;00m (\n\u001b[0;32m   3815\u001b[0m         \u001b[38;5;28misinstance\u001b[39m(casted_key, abc\u001b[38;5;241m.\u001b[39mIterable)\n\u001b[0;32m   3816\u001b[0m         \u001b[38;5;129;01mand\u001b[39;00m \u001b[38;5;28many\u001b[39m(\u001b[38;5;28misinstance\u001b[39m(x, \u001b[38;5;28mslice\u001b[39m) \u001b[38;5;28;01mfor\u001b[39;00m x \u001b[38;5;129;01min\u001b[39;00m casted_key)\n\u001b[0;32m   3817\u001b[0m     ):\n\u001b[0;32m   3818\u001b[0m         \u001b[38;5;28;01mraise\u001b[39;00m InvalidIndexError(key)\n\u001b[1;32m-> 3819\u001b[0m     \u001b[38;5;28;01mraise\u001b[39;00m \u001b[38;5;167;01mKeyError\u001b[39;00m(key) \u001b[38;5;28;01mfrom\u001b[39;00m \u001b[38;5;21;01merr\u001b[39;00m\n\u001b[0;32m   3820\u001b[0m \u001b[38;5;28;01mexcept\u001b[39;00m \u001b[38;5;167;01mTypeError\u001b[39;00m:\n\u001b[0;32m   3821\u001b[0m     \u001b[38;5;66;03m# If we have a listlike key, _check_indexing_error will raise\u001b[39;00m\n\u001b[0;32m   3822\u001b[0m     \u001b[38;5;66;03m#  InvalidIndexError. Otherwise we fall through and re-raise\u001b[39;00m\n\u001b[0;32m   3823\u001b[0m     \u001b[38;5;66;03m#  the TypeError.\u001b[39;00m\n\u001b[0;32m   3824\u001b[0m     \u001b[38;5;28mself\u001b[39m\u001b[38;5;241m.\u001b[39m_check_indexing_error(key)\n",
      "\u001b[1;31mKeyError\u001b[0m: 'Physics'"
     ]
    }
   ],
   "source": [
    "df['Pass'] = ((df['Physics'] >=40) & (df['Chemistry'] >=40) & (df['Mathematics'] >=40)).map({True: 'Yes', False: 'No'})"
   ]
  },
  {
   "cell_type": "code",
   "execution_count": 186,
   "id": "95cdd19d-2d24-4d4e-94a8-6c64471febe5",
   "metadata": {},
   "outputs": [
    {
     "name": "stdout",
     "output_type": "stream",
     "text": [
      "        Name  Age  Gender     City  Physics  Chemistry  Mathematics  \\\n",
      "0  Student_1   20    Male   Mumbai       76         82           26   \n",
      "1  Student_2   21  Female   Mumbai       32         76           35   \n",
      "2  Student_3   18    Male  Kolkata       30         36           79   \n",
      "3  Student_4   20  Female   Mumbai       34         63           21   \n",
      "4  Student_5   20    Male   Mumbai       43         26           20   \n",
      "\n",
      "   Attendance  Average_Marks Pass  \n",
      "0       99.16            184   No  \n",
      "1       79.47            143   No  \n",
      "2       96.24            145   No  \n",
      "3       77.38            118   No  \n",
      "4       74.00             89   No  \n"
     ]
    }
   ],
   "source": [
    "print(df.head())"
   ]
  },
  {
   "cell_type": "code",
   "execution_count": 187,
   "id": "62906725-8b7e-4c1f-847a-ea7ff1fed4fd",
   "metadata": {},
   "outputs": [
    {
     "name": "stdout",
     "output_type": "stream",
     "text": [
      "0     184\n",
      "1     143\n",
      "2     145\n",
      "3     118\n",
      "4      89\n",
      "5     150\n",
      "6     149\n",
      "7     215\n",
      "8     153\n",
      "9     157\n",
      "10    198\n",
      "11    144\n",
      "12    143\n",
      "13    177\n",
      "14    143\n",
      "15    179\n",
      "16    157\n",
      "17    232\n",
      "18    150\n",
      "19    196\n",
      "20    261\n",
      "21    228\n",
      "22    191\n",
      "23    190\n",
      "24    166\n",
      "25    221\n",
      "26    265\n",
      "27    143\n",
      "28    151\n",
      "29    239\n",
      "30    247\n",
      "31    146\n",
      "32    187\n",
      "33    261\n",
      "34    142\n",
      "35    132\n",
      "36    222\n",
      "37    142\n",
      "38    182\n",
      "39    159\n",
      "40    121\n",
      "41    241\n",
      "42    165\n",
      "43    157\n",
      "44    175\n",
      "45    229\n",
      "46    240\n",
      "47    149\n",
      "48    185\n",
      "49    214\n",
      "Name: Average_Marks, dtype: int64 0     99.16\n",
      "1     79.47\n",
      "2     96.24\n",
      "3     77.38\n",
      "4     74.00\n",
      "5     85.80\n",
      "6     86.76\n",
      "7     94.57\n",
      "8     69.21\n",
      "9     79.97\n",
      "10    82.88\n",
      "11    90.74\n",
      "12    61.74\n",
      "13    99.78\n",
      "14    78.80\n",
      "15    71.18\n",
      "16    95.34\n",
      "17    89.91\n",
      "18    98.12\n",
      "19    73.23\n",
      "20    82.11\n",
      "21    82.89\n",
      "22    99.21\n",
      "23    63.01\n",
      "24    72.23\n",
      "25    67.64\n",
      "26    70.74\n",
      "27    79.41\n",
      "28    74.91\n",
      "29    75.79\n",
      "30    93.77\n",
      "31    97.20\n",
      "32    62.82\n",
      "33    68.36\n",
      "34    86.85\n",
      "35    74.35\n",
      "36    70.17\n",
      "37    71.81\n",
      "38    72.90\n",
      "39    93.95\n",
      "40    65.46\n",
      "41    88.36\n",
      "42    82.11\n",
      "43    71.86\n",
      "44    76.79\n",
      "45    70.25\n",
      "46    84.46\n",
      "47    63.26\n",
      "48    60.21\n",
      "49    85.12\n",
      "Name: Attendance, dtype: float64 0       Male\n",
      "1     Female\n",
      "2       Male\n",
      "3     Female\n",
      "4       Male\n",
      "5     Female\n",
      "6     Female\n",
      "7       Male\n",
      "8       Male\n",
      "9       Male\n",
      "10      Male\n",
      "11      Male\n",
      "12      Male\n",
      "13      Male\n",
      "14      Male\n",
      "15    Female\n",
      "16    Female\n",
      "17      Male\n",
      "18    Female\n",
      "19    Female\n",
      "20    Female\n",
      "21    Female\n",
      "22      Male\n",
      "23    Female\n",
      "24      Male\n",
      "25    Female\n",
      "26    Female\n",
      "27    Female\n",
      "28      Male\n",
      "29    Female\n",
      "30      Male\n",
      "31    Female\n",
      "32      Male\n",
      "33    Female\n",
      "34      Male\n",
      "35      Male\n",
      "36    Female\n",
      "37      Male\n",
      "38    Female\n",
      "39    Female\n",
      "40    Female\n",
      "41    Female\n",
      "42    Female\n",
      "43    Female\n",
      "44    Female\n",
      "45    Female\n",
      "46    Female\n",
      "47    Female\n",
      "48    Female\n",
      "49      Male\n",
      "Name: Gender, dtype: object\n"
     ]
    }
   ],
   "source": [
    "print(df['Average_Marks'], df['Attendance'], df['Gender'])"
   ]
  },
  {
   "cell_type": "code",
   "execution_count": 188,
   "id": "b95ddd74-4101-4254-bede-4da2fabc4780",
   "metadata": {},
   "outputs": [
    {
     "name": "stdout",
     "output_type": "stream",
     "text": [
      "        Average_Marks  Attendance\n",
      "Gender                           \n",
      "Female     186.931034   77.731379\n",
      "Male       169.142857   82.765238\n"
     ]
    }
   ],
   "source": [
    "grouped_data1 = df.groupby('Gender')[['Average_Marks', 'Attendance']].mean()\n",
    "print(grouped_data1)"
   ]
  },
  {
   "cell_type": "code",
   "execution_count": 189,
   "id": "a0ed2cc2-f455-42d1-8102-f93130fc95fb",
   "metadata": {},
   "outputs": [
    {
     "name": "stdout",
     "output_type": "stream",
     "text": [
      "          Name  Age  Gender    City  Physics  Chemistry  Mathematics  \\\n",
      "4    Student_5   20    Male  Mumbai       43         26           20   \n",
      "3    Student_4   20  Female  Mumbai       34         63           21   \n",
      "40  Student_41   20  Female  Mumbai       38         57           26   \n",
      "35  Student_36   18    Male  Mumbai       56         43           33   \n",
      "34  Student_35   19    Male  Mumbai       30         60           52   \n",
      "\n",
      "    Attendance  Average_Marks Pass  \n",
      "4        74.00             89   No  \n",
      "3        77.38            118   No  \n",
      "40       65.46            121   No  \n",
      "35       74.35            132   No  \n",
      "34       86.85            142   No  \n"
     ]
    }
   ],
   "source": [
    "toppers = df.sort_values(by='Average_Marks').head(5)\n",
    "print(toppers)"
   ]
  },
  {
   "cell_type": "code",
   "execution_count": 190,
   "id": "af68e4c7-1415-4907-bedc-a7bbe8d97420",
   "metadata": {},
   "outputs": [],
   "source": [
    "df['Results'] = ((df['Physics'] >=40) & (df['Chemistry'] >=40) & (df['Mathematics'] >=40)).map({True: 'Pass', False: 'Fail'})"
   ]
  },
  {
   "cell_type": "code",
   "execution_count": 191,
   "id": "d21b9f50-ccaf-43cd-81d7-1aec1e63b0f5",
   "metadata": {},
   "outputs": [
    {
     "name": "stdout",
     "output_type": "stream",
     "text": [
      "Results\n",
      "Fail    27\n",
      "Pass    23\n",
      "Name: count, dtype: int64\n"
     ]
    }
   ],
   "source": [
    "Count_for_result = df['Results'].value_counts()\n",
    "print(Count_for_result)"
   ]
  },
  {
   "cell_type": "code",
   "execution_count": null,
   "id": "e5043be9-9714-47e8-a24d-85c137a7ada5",
   "metadata": {},
   "outputs": [],
   "source": [
    "df2 = df[['', 'Age']]"
   ]
  },
  {
   "cell_type": "code",
   "execution_count": 205,
   "id": "75b08e09-b0ac-454c-85c8-ffbd1f714a10",
   "metadata": {},
   "outputs": [
    {
     "name": "stdout",
     "output_type": "stream",
     "text": [
      "Index(['Attendance', 'Average_Marks'], dtype='object')\n"
     ]
    }
   ],
   "source": [
    "print(df.columns)"
   ]
  },
  {
   "cell_type": "code",
   "execution_count": 203,
   "id": "a8aa2e90-52e8-4255-9195-eead9106c6ad",
   "metadata": {},
   "outputs": [
    {
     "ename": "KeyError",
     "evalue": "'City'",
     "output_type": "error",
     "traceback": [
      "\u001b[1;31m---------------------------------------------------------------------------\u001b[0m",
      "\u001b[1;31mKeyError\u001b[0m                                  Traceback (most recent call last)",
      "File \u001b[1;32m~\\AppData\\Local\\Programs\\Python\\Python312\\Lib\\site-packages\\pandas\\core\\indexes\\base.py:3812\u001b[0m, in \u001b[0;36mIndex.get_loc\u001b[1;34m(self, key)\u001b[0m\n\u001b[0;32m   3811\u001b[0m \u001b[38;5;28;01mtry\u001b[39;00m:\n\u001b[1;32m-> 3812\u001b[0m     \u001b[38;5;28;01mreturn\u001b[39;00m \u001b[38;5;28;43mself\u001b[39;49m\u001b[38;5;241;43m.\u001b[39;49m\u001b[43m_engine\u001b[49m\u001b[38;5;241;43m.\u001b[39;49m\u001b[43mget_loc\u001b[49m\u001b[43m(\u001b[49m\u001b[43mcasted_key\u001b[49m\u001b[43m)\u001b[49m\n\u001b[0;32m   3813\u001b[0m \u001b[38;5;28;01mexcept\u001b[39;00m \u001b[38;5;167;01mKeyError\u001b[39;00m \u001b[38;5;28;01mas\u001b[39;00m err:\n",
      "File \u001b[1;32mpandas/_libs/index.pyx:167\u001b[0m, in \u001b[0;36mpandas._libs.index.IndexEngine.get_loc\u001b[1;34m()\u001b[0m\n",
      "File \u001b[1;32mpandas/_libs/index.pyx:196\u001b[0m, in \u001b[0;36mpandas._libs.index.IndexEngine.get_loc\u001b[1;34m()\u001b[0m\n",
      "File \u001b[1;32mpandas/_libs/hashtable_class_helper.pxi:7088\u001b[0m, in \u001b[0;36mpandas._libs.hashtable.PyObjectHashTable.get_item\u001b[1;34m()\u001b[0m\n",
      "File \u001b[1;32mpandas/_libs/hashtable_class_helper.pxi:7096\u001b[0m, in \u001b[0;36mpandas._libs.hashtable.PyObjectHashTable.get_item\u001b[1;34m()\u001b[0m\n",
      "\u001b[1;31mKeyError\u001b[0m: 'City'",
      "\nThe above exception was the direct cause of the following exception:\n",
      "\u001b[1;31mKeyError\u001b[0m                                  Traceback (most recent call last)",
      "Cell \u001b[1;32mIn[203], line 1\u001b[0m\n\u001b[1;32m----> 1\u001b[0m Count_for_Students \u001b[38;5;241m=\u001b[39m \u001b[43mdf\u001b[49m\u001b[43m[\u001b[49m\u001b[38;5;124;43m'\u001b[39;49m\u001b[38;5;124;43mCity\u001b[39;49m\u001b[38;5;124;43m'\u001b[39;49m\u001b[43m]\u001b[49m\u001b[38;5;241m.\u001b[39mvalue_counts()\n\u001b[0;32m      2\u001b[0m \u001b[38;5;28mprint\u001b[39m(Count_for_Students)\n",
      "File \u001b[1;32m~\\AppData\\Local\\Programs\\Python\\Python312\\Lib\\site-packages\\pandas\\core\\frame.py:4107\u001b[0m, in \u001b[0;36mDataFrame.__getitem__\u001b[1;34m(self, key)\u001b[0m\n\u001b[0;32m   4105\u001b[0m \u001b[38;5;28;01mif\u001b[39;00m \u001b[38;5;28mself\u001b[39m\u001b[38;5;241m.\u001b[39mcolumns\u001b[38;5;241m.\u001b[39mnlevels \u001b[38;5;241m>\u001b[39m \u001b[38;5;241m1\u001b[39m:\n\u001b[0;32m   4106\u001b[0m     \u001b[38;5;28;01mreturn\u001b[39;00m \u001b[38;5;28mself\u001b[39m\u001b[38;5;241m.\u001b[39m_getitem_multilevel(key)\n\u001b[1;32m-> 4107\u001b[0m indexer \u001b[38;5;241m=\u001b[39m \u001b[38;5;28;43mself\u001b[39;49m\u001b[38;5;241;43m.\u001b[39;49m\u001b[43mcolumns\u001b[49m\u001b[38;5;241;43m.\u001b[39;49m\u001b[43mget_loc\u001b[49m\u001b[43m(\u001b[49m\u001b[43mkey\u001b[49m\u001b[43m)\u001b[49m\n\u001b[0;32m   4108\u001b[0m \u001b[38;5;28;01mif\u001b[39;00m is_integer(indexer):\n\u001b[0;32m   4109\u001b[0m     indexer \u001b[38;5;241m=\u001b[39m [indexer]\n",
      "File \u001b[1;32m~\\AppData\\Local\\Programs\\Python\\Python312\\Lib\\site-packages\\pandas\\core\\indexes\\base.py:3819\u001b[0m, in \u001b[0;36mIndex.get_loc\u001b[1;34m(self, key)\u001b[0m\n\u001b[0;32m   3814\u001b[0m     \u001b[38;5;28;01mif\u001b[39;00m \u001b[38;5;28misinstance\u001b[39m(casted_key, \u001b[38;5;28mslice\u001b[39m) \u001b[38;5;129;01mor\u001b[39;00m (\n\u001b[0;32m   3815\u001b[0m         \u001b[38;5;28misinstance\u001b[39m(casted_key, abc\u001b[38;5;241m.\u001b[39mIterable)\n\u001b[0;32m   3816\u001b[0m         \u001b[38;5;129;01mand\u001b[39;00m \u001b[38;5;28many\u001b[39m(\u001b[38;5;28misinstance\u001b[39m(x, \u001b[38;5;28mslice\u001b[39m) \u001b[38;5;28;01mfor\u001b[39;00m x \u001b[38;5;129;01min\u001b[39;00m casted_key)\n\u001b[0;32m   3817\u001b[0m     ):\n\u001b[0;32m   3818\u001b[0m         \u001b[38;5;28;01mraise\u001b[39;00m InvalidIndexError(key)\n\u001b[1;32m-> 3819\u001b[0m     \u001b[38;5;28;01mraise\u001b[39;00m \u001b[38;5;167;01mKeyError\u001b[39;00m(key) \u001b[38;5;28;01mfrom\u001b[39;00m \u001b[38;5;21;01merr\u001b[39;00m\n\u001b[0;32m   3820\u001b[0m \u001b[38;5;28;01mexcept\u001b[39;00m \u001b[38;5;167;01mTypeError\u001b[39;00m:\n\u001b[0;32m   3821\u001b[0m     \u001b[38;5;66;03m# If we have a listlike key, _check_indexing_error will raise\u001b[39;00m\n\u001b[0;32m   3822\u001b[0m     \u001b[38;5;66;03m#  InvalidIndexError. Otherwise we fall through and re-raise\u001b[39;00m\n\u001b[0;32m   3823\u001b[0m     \u001b[38;5;66;03m#  the TypeError.\u001b[39;00m\n\u001b[0;32m   3824\u001b[0m     \u001b[38;5;28mself\u001b[39m\u001b[38;5;241m.\u001b[39m_check_indexing_error(key)\n",
      "\u001b[1;31mKeyError\u001b[0m: 'City'"
     ]
    }
   ],
   "source": [
    "Count_for_Students = df['City'].value_counts()\n",
    "print(Count_for_Students)"
   ]
  },
  {
   "cell_type": "code",
   "execution_count": 204,
   "id": "321c88a6-8bab-4219-8fef-eb8a81f632b7",
   "metadata": {},
   "outputs": [
    {
     "ename": "KeyError",
     "evalue": "'City'",
     "output_type": "error",
     "traceback": [
      "\u001b[1;31m---------------------------------------------------------------------------\u001b[0m",
      "\u001b[1;31mKeyError\u001b[0m                                  Traceback (most recent call last)",
      "File \u001b[1;32m~\\AppData\\Local\\Programs\\Python\\Python312\\Lib\\site-packages\\pandas\\core\\indexes\\base.py:3812\u001b[0m, in \u001b[0;36mIndex.get_loc\u001b[1;34m(self, key)\u001b[0m\n\u001b[0;32m   3811\u001b[0m \u001b[38;5;28;01mtry\u001b[39;00m:\n\u001b[1;32m-> 3812\u001b[0m     \u001b[38;5;28;01mreturn\u001b[39;00m \u001b[38;5;28;43mself\u001b[39;49m\u001b[38;5;241;43m.\u001b[39;49m\u001b[43m_engine\u001b[49m\u001b[38;5;241;43m.\u001b[39;49m\u001b[43mget_loc\u001b[49m\u001b[43m(\u001b[49m\u001b[43mcasted_key\u001b[49m\u001b[43m)\u001b[49m\n\u001b[0;32m   3813\u001b[0m \u001b[38;5;28;01mexcept\u001b[39;00m \u001b[38;5;167;01mKeyError\u001b[39;00m \u001b[38;5;28;01mas\u001b[39;00m err:\n",
      "File \u001b[1;32mpandas/_libs/index.pyx:167\u001b[0m, in \u001b[0;36mpandas._libs.index.IndexEngine.get_loc\u001b[1;34m()\u001b[0m\n",
      "File \u001b[1;32mpandas/_libs/index.pyx:196\u001b[0m, in \u001b[0;36mpandas._libs.index.IndexEngine.get_loc\u001b[1;34m()\u001b[0m\n",
      "File \u001b[1;32mpandas/_libs/hashtable_class_helper.pxi:7088\u001b[0m, in \u001b[0;36mpandas._libs.hashtable.PyObjectHashTable.get_item\u001b[1;34m()\u001b[0m\n",
      "File \u001b[1;32mpandas/_libs/hashtable_class_helper.pxi:7096\u001b[0m, in \u001b[0;36mpandas._libs.hashtable.PyObjectHashTable.get_item\u001b[1;34m()\u001b[0m\n",
      "\u001b[1;31mKeyError\u001b[0m: 'City'",
      "\nThe above exception was the direct cause of the following exception:\n",
      "\u001b[1;31mKeyError\u001b[0m                                  Traceback (most recent call last)",
      "Cell \u001b[1;32mIn[204], line 1\u001b[0m\n\u001b[1;32m----> 1\u001b[0m Count_for_Students \u001b[38;5;241m=\u001b[39m \u001b[43mdf\u001b[49m\u001b[43m[\u001b[49m\u001b[38;5;124;43m'\u001b[39;49m\u001b[38;5;124;43mCity\u001b[39;49m\u001b[38;5;124;43m'\u001b[39;49m\u001b[43m]\u001b[49m\u001b[38;5;241m.\u001b[39mvalue_counts()\n\u001b[0;32m      2\u001b[0m \u001b[38;5;28mprint\u001b[39m(Count_for_Students)\n",
      "File \u001b[1;32m~\\AppData\\Local\\Programs\\Python\\Python312\\Lib\\site-packages\\pandas\\core\\frame.py:4107\u001b[0m, in \u001b[0;36mDataFrame.__getitem__\u001b[1;34m(self, key)\u001b[0m\n\u001b[0;32m   4105\u001b[0m \u001b[38;5;28;01mif\u001b[39;00m \u001b[38;5;28mself\u001b[39m\u001b[38;5;241m.\u001b[39mcolumns\u001b[38;5;241m.\u001b[39mnlevels \u001b[38;5;241m>\u001b[39m \u001b[38;5;241m1\u001b[39m:\n\u001b[0;32m   4106\u001b[0m     \u001b[38;5;28;01mreturn\u001b[39;00m \u001b[38;5;28mself\u001b[39m\u001b[38;5;241m.\u001b[39m_getitem_multilevel(key)\n\u001b[1;32m-> 4107\u001b[0m indexer \u001b[38;5;241m=\u001b[39m \u001b[38;5;28;43mself\u001b[39;49m\u001b[38;5;241;43m.\u001b[39;49m\u001b[43mcolumns\u001b[49m\u001b[38;5;241;43m.\u001b[39;49m\u001b[43mget_loc\u001b[49m\u001b[43m(\u001b[49m\u001b[43mkey\u001b[49m\u001b[43m)\u001b[49m\n\u001b[0;32m   4108\u001b[0m \u001b[38;5;28;01mif\u001b[39;00m is_integer(indexer):\n\u001b[0;32m   4109\u001b[0m     indexer \u001b[38;5;241m=\u001b[39m [indexer]\n",
      "File \u001b[1;32m~\\AppData\\Local\\Programs\\Python\\Python312\\Lib\\site-packages\\pandas\\core\\indexes\\base.py:3819\u001b[0m, in \u001b[0;36mIndex.get_loc\u001b[1;34m(self, key)\u001b[0m\n\u001b[0;32m   3814\u001b[0m     \u001b[38;5;28;01mif\u001b[39;00m \u001b[38;5;28misinstance\u001b[39m(casted_key, \u001b[38;5;28mslice\u001b[39m) \u001b[38;5;129;01mor\u001b[39;00m (\n\u001b[0;32m   3815\u001b[0m         \u001b[38;5;28misinstance\u001b[39m(casted_key, abc\u001b[38;5;241m.\u001b[39mIterable)\n\u001b[0;32m   3816\u001b[0m         \u001b[38;5;129;01mand\u001b[39;00m \u001b[38;5;28many\u001b[39m(\u001b[38;5;28misinstance\u001b[39m(x, \u001b[38;5;28mslice\u001b[39m) \u001b[38;5;28;01mfor\u001b[39;00m x \u001b[38;5;129;01min\u001b[39;00m casted_key)\n\u001b[0;32m   3817\u001b[0m     ):\n\u001b[0;32m   3818\u001b[0m         \u001b[38;5;28;01mraise\u001b[39;00m InvalidIndexError(key)\n\u001b[1;32m-> 3819\u001b[0m     \u001b[38;5;28;01mraise\u001b[39;00m \u001b[38;5;167;01mKeyError\u001b[39;00m(key) \u001b[38;5;28;01mfrom\u001b[39;00m \u001b[38;5;21;01merr\u001b[39;00m\n\u001b[0;32m   3820\u001b[0m \u001b[38;5;28;01mexcept\u001b[39;00m \u001b[38;5;167;01mTypeError\u001b[39;00m:\n\u001b[0;32m   3821\u001b[0m     \u001b[38;5;66;03m# If we have a listlike key, _check_indexing_error will raise\u001b[39;00m\n\u001b[0;32m   3822\u001b[0m     \u001b[38;5;66;03m#  InvalidIndexError. Otherwise we fall through and re-raise\u001b[39;00m\n\u001b[0;32m   3823\u001b[0m     \u001b[38;5;66;03m#  the TypeError.\u001b[39;00m\n\u001b[0;32m   3824\u001b[0m     \u001b[38;5;28mself\u001b[39m\u001b[38;5;241m.\u001b[39m_check_indexing_error(key)\n",
      "\u001b[1;31mKeyError\u001b[0m: 'City'"
     ]
    }
   ],
   "source": [
    "Count_for_Students = df['City'].value_counts()\n",
    "print(Count_for_Students)"
   ]
  },
  {
   "cell_type": "code",
   "execution_count": 135,
   "id": "c9d5d6fb-55de-4d26-a876-c89bb3ab0ef9",
   "metadata": {},
   "outputs": [],
   "source": [
    "import matplotlib.pyplot as plt"
   ]
  },
  {
   "cell_type": "code",
   "execution_count": 194,
   "id": "f3c762ae-5a81-4f87-aa7b-a4296ae9c286",
   "metadata": {},
   "outputs": [
    {
     "data": {
      "image/png": "[encoded data removed]",
      "text/plain": [
       "<Figure size 640x480 with 1 Axes>"
      ]
     },
     "metadata": {},
     "output_type": "display_data"
    }
   ],
   "source": [
    "\n",
    "Cities = [\"Delhi\", \"Kolkata\", \"Mumbai\", \"Bangalore\", \"Chennai\"]\n",
    "\n",
    "Number_of_students = [13, 10, 9, 9, 9]\n",
    "\n",
    "x = np.arange(len(Cities))\n",
    "width = 0.25\n",
    "\n",
    "plt.bar(x - width, Number_of_students, width=width, label=\"Number of students\")\n",
    "plt.xticks(x, Cities)\n",
    "\n",
    "plt.xlabel(\"Cities\")\n",
    "plt.ylabel(\"Number of students\")\n",
    "plt.grid(axis='y')\n",
    "plt.title(\"Number of students living in the following cities\")\n",
    "plt.legend()\n",
    "plt.tight_layout()\n",
    "plt.show()"
   ]
  },
  {
   "cell_type": "code",
   "execution_count": 195,
   "id": "1abeb5c6-a79d-4f12-9518-7ce0e55cb804",
   "metadata": {},
   "outputs": [
    {
     "name": "stdout",
     "output_type": "stream",
     "text": [
      "Physics\n",
      "91    6\n",
      "57    3\n",
      "56    3\n",
      "38    2\n",
      "80    2\n",
      "30    2\n",
      "32    2\n",
      "81    2\n",
      "88    2\n",
      "71    2\n",
      "73    2\n",
      "61    2\n",
      "44    2\n",
      "76    1\n",
      "34    1\n",
      "72    1\n",
      "52    1\n",
      "33    1\n",
      "92    1\n",
      "43    1\n",
      "65    1\n",
      "42    1\n",
      "58    1\n",
      "74    1\n",
      "95    1\n",
      "86    1\n",
      "35    1\n",
      "59    1\n",
      "99    1\n",
      "66    1\n",
      "53    1\n",
      "Name: count, dtype: int64\n"
     ]
    }
   ],
   "source": [
    "Count_for_Physics_Marks = df['Physics'].value_counts()\n",
    "print(Count_for_Physics_Marks)"
   ]
  },
  {
   "cell_type": "code",
   "execution_count": 196,
   "id": "b0b64452-e284-4d42-88d7-97c0deaefd5f",
   "metadata": {},
   "outputs": [
    {
     "data": {
      "image/png": "[encoded data removed]",
      "text/plain": [
       "<Figure size 640x480 with 1 Axes>"
      ]
     },
     "metadata": {},
     "output_type": "display_data"
    }
   ],
   "source": [
    "Marks2 =np.random.randint(30, 90, size=10)\n",
    "Number_of_student_scored = [30, 40, 50, 60, 70, 80, 90]\n",
    "\n",
    "plt.hist(Marks2, Number_of_student_scored, edgecolor='black')\n",
    "plt.title('Marks Distribution in Physics ')\n",
    "plt.xlabel('Marks obtained in Physics')\n",
    "plt.ylabel('No. of students')\n",
    "plt.grid(True, linestyle='--', alpha=0.5)\n",
    "plt.show()\n"
   ]
  },
  {
   "cell_type": "code",
   "execution_count": 197,
   "id": "79689846-97ef-4553-9010-82ab6ce83017",
   "metadata": {},
   "outputs": [
    {
     "data": {
      "image/png": "[encoded data removed]",
      "text/plain": [
       "<Figure size 640x480 with 1 Axes>"
      ]
     },
     "metadata": {},
     "output_type": "display_data"
    }
   ],
   "source": [
    "Marks2 =np.random.randint(30, 90, size=10)\n",
    "Number_of_student_scored = [30, 40, 50, 60, 70, 80, 90]\n",
    "\n",
    "plt.hist(Marks2, Number_of_student_scored, edgecolor='black')\n",
    "plt.title('Marks Distribution in Chemistry ')\n",
    "plt.xlabel('Marks obtained in Chemistry')\n",
    "plt.ylabel('No. of students')\n",
    "plt.grid(True, linestyle='--', alpha=0.5)\n",
    "plt.show()\n"
   ]
  },
  {
   "cell_type": "code",
   "execution_count": 198,
   "id": "d717d49b-6172-4fa9-89b4-06b58571ed8f",
   "metadata": {},
   "outputs": [
    {
     "data": {
      "image/png": "[encoded data removed]",
      "text/plain": [
       "<Figure size 640x480 with 1 Axes>"
      ]
     },
     "metadata": {},
     "output_type": "display_data"
    }
   ],
   "source": [
    "Marks2 =np.random.randint(30, 90, size=10)\n",
    "Number_of_student_scored = [30, 40, 50, 60, 70, 80, 90]\n",
    "\n",
    "plt.hist(Marks2, Number_of_student_scored, edgecolor='black')\n",
    "plt.title('Marks Distribution in Mathematics')\n",
    "plt.xlabel('Marks obtained in Mathematics')\n",
    "plt.ylabel('No. of students ')\n",
    "plt.grid(True, linestyle='--', alpha=0.5)\n",
    "plt.show()\n"
   ]
  },
  {
   "cell_type": "code",
   "execution_count": 199,
   "id": "e751ff42-ab5d-4728-b68e-bfc762ece036",
   "metadata": {},
   "outputs": [
    {
     "data": {
      "image/png": "[encoded data removed]",
      "text/plain": [
       "<Figure size 640x480 with 1 Axes>"
      ]
     },
     "metadata": {},
     "output_type": "display_data"
    }
   ],
   "source": [
    "\n",
    "df = pd.DataFrame({\n",
    "    'Attendance': [60.21, 63.26, 74.35, 93.77, 97.20],\n",
    "    'Average_Marks': [185, 149, 132, 247, 146],\n",
    "})\n",
    "\n",
    "\n",
    "plt.scatter(df['Attendance'], df['Average_Marks'], color='blue', marker='o')\n",
    "plt.xlabel(\"Attendance\")\n",
    "plt.ylabel(\"Average_Marks\")\n",
    "plt.title(\"Attendance vs Average_Marks\")\n",
    "plt.grid(True)\n",
    "plt.show()"
   ]
  },
  {
   "cell_type": "code",
   "execution_count": 201,
   "id": "d836a925-01cc-4612-9937-94c6ce7be818",
   "metadata": {},
   "outputs": [
    {
     "ename": "KeyError",
     "evalue": "'Gender'",
     "output_type": "error",
     "traceback": [
      "\u001b[1;31m---------------------------------------------------------------------------\u001b[0m",
      "\u001b[1;31mKeyError\u001b[0m                                  Traceback (most recent call last)",
      "File \u001b[1;32m~\\AppData\\Local\\Programs\\Python\\Python312\\Lib\\site-packages\\pandas\\core\\indexes\\base.py:3812\u001b[0m, in \u001b[0;36mIndex.get_loc\u001b[1;34m(self, key)\u001b[0m\n\u001b[0;32m   3811\u001b[0m \u001b[38;5;28;01mtry\u001b[39;00m:\n\u001b[1;32m-> 3812\u001b[0m     \u001b[38;5;28;01mreturn\u001b[39;00m \u001b[38;5;28;43mself\u001b[39;49m\u001b[38;5;241;43m.\u001b[39;49m\u001b[43m_engine\u001b[49m\u001b[38;5;241;43m.\u001b[39;49m\u001b[43mget_loc\u001b[49m\u001b[43m(\u001b[49m\u001b[43mcasted_key\u001b[49m\u001b[43m)\u001b[49m\n\u001b[0;32m   3813\u001b[0m \u001b[38;5;28;01mexcept\u001b[39;00m \u001b[38;5;167;01mKeyError\u001b[39;00m \u001b[38;5;28;01mas\u001b[39;00m err:\n",
      "File \u001b[1;32mpandas/_libs/index.pyx:167\u001b[0m, in \u001b[0;36mpandas._libs.index.IndexEngine.get_loc\u001b[1;34m()\u001b[0m\n",
      "File \u001b[1;32mpandas/_libs/index.pyx:196\u001b[0m, in \u001b[0;36mpandas._libs.index.IndexEngine.get_loc\u001b[1;34m()\u001b[0m\n",
      "File \u001b[1;32mpandas/_libs/hashtable_class_helper.pxi:7088\u001b[0m, in \u001b[0;36mpandas._libs.hashtable.PyObjectHashTable.get_item\u001b[1;34m()\u001b[0m\n",
      "File \u001b[1;32mpandas/_libs/hashtable_class_helper.pxi:7096\u001b[0m, in \u001b[0;36mpandas._libs.hashtable.PyObjectHashTable.get_item\u001b[1;34m()\u001b[0m\n",
      "\u001b[1;31mKeyError\u001b[0m: 'Gender'",
      "\nThe above exception was the direct cause of the following exception:\n",
      "\u001b[1;31mKeyError\u001b[0m                                  Traceback (most recent call last)",
      "Cell \u001b[1;32mIn[201], line 1\u001b[0m\n\u001b[1;32m----> 1\u001b[0m Count_for_Students_based_on_gender \u001b[38;5;241m=\u001b[39m \u001b[43mdf\u001b[49m\u001b[43m[\u001b[49m\u001b[38;5;124;43m'\u001b[39;49m\u001b[38;5;124;43mGender\u001b[39;49m\u001b[38;5;124;43m'\u001b[39;49m\u001b[43m]\u001b[49m\u001b[38;5;241m.\u001b[39mvalue_counts()\n\u001b[0;32m      2\u001b[0m \u001b[38;5;28mprint\u001b[39m(Count_for_Students_based_on_gender)\n",
      "File \u001b[1;32m~\\AppData\\Local\\Programs\\Python\\Python312\\Lib\\site-packages\\pandas\\core\\frame.py:4107\u001b[0m, in \u001b[0;36mDataFrame.__getitem__\u001b[1;34m(self, key)\u001b[0m\n\u001b[0;32m   4105\u001b[0m \u001b[38;5;28;01mif\u001b[39;00m \u001b[38;5;28mself\u001b[39m\u001b[38;5;241m.\u001b[39mcolumns\u001b[38;5;241m.\u001b[39mnlevels \u001b[38;5;241m>\u001b[39m \u001b[38;5;241m1\u001b[39m:\n\u001b[0;32m   4106\u001b[0m     \u001b[38;5;28;01mreturn\u001b[39;00m \u001b[38;5;28mself\u001b[39m\u001b[38;5;241m.\u001b[39m_getitem_multilevel(key)\n\u001b[1;32m-> 4107\u001b[0m indexer \u001b[38;5;241m=\u001b[39m \u001b[38;5;28;43mself\u001b[39;49m\u001b[38;5;241;43m.\u001b[39;49m\u001b[43mcolumns\u001b[49m\u001b[38;5;241;43m.\u001b[39;49m\u001b[43mget_loc\u001b[49m\u001b[43m(\u001b[49m\u001b[43mkey\u001b[49m\u001b[43m)\u001b[49m\n\u001b[0;32m   4108\u001b[0m \u001b[38;5;28;01mif\u001b[39;00m is_integer(indexer):\n\u001b[0;32m   4109\u001b[0m     indexer \u001b[38;5;241m=\u001b[39m [indexer]\n",
      "File \u001b[1;32m~\\AppData\\Local\\Programs\\Python\\Python312\\Lib\\site-packages\\pandas\\core\\indexes\\base.py:3819\u001b[0m, in \u001b[0;36mIndex.get_loc\u001b[1;34m(self, key)\u001b[0m\n\u001b[0;32m   3814\u001b[0m     \u001b[38;5;28;01mif\u001b[39;00m \u001b[38;5;28misinstance\u001b[39m(casted_key, \u001b[38;5;28mslice\u001b[39m) \u001b[38;5;129;01mor\u001b[39;00m (\n\u001b[0;32m   3815\u001b[0m         \u001b[38;5;28misinstance\u001b[39m(casted_key, abc\u001b[38;5;241m.\u001b[39mIterable)\n\u001b[0;32m   3816\u001b[0m         \u001b[38;5;129;01mand\u001b[39;00m \u001b[38;5;28many\u001b[39m(\u001b[38;5;28misinstance\u001b[39m(x, \u001b[38;5;28mslice\u001b[39m) \u001b[38;5;28;01mfor\u001b[39;00m x \u001b[38;5;129;01min\u001b[39;00m casted_key)\n\u001b[0;32m   3817\u001b[0m     ):\n\u001b[0;32m   3818\u001b[0m         \u001b[38;5;28;01mraise\u001b[39;00m InvalidIndexError(key)\n\u001b[1;32m-> 3819\u001b[0m     \u001b[38;5;28;01mraise\u001b[39;00m \u001b[38;5;167;01mKeyError\u001b[39;00m(key) \u001b[38;5;28;01mfrom\u001b[39;00m \u001b[38;5;21;01merr\u001b[39;00m\n\u001b[0;32m   3820\u001b[0m \u001b[38;5;28;01mexcept\u001b[39;00m \u001b[38;5;167;01mTypeError\u001b[39;00m:\n\u001b[0;32m   3821\u001b[0m     \u001b[38;5;66;03m# If we have a listlike key, _check_indexing_error will raise\u001b[39;00m\n\u001b[0;32m   3822\u001b[0m     \u001b[38;5;66;03m#  InvalidIndexError. Otherwise we fall through and re-raise\u001b[39;00m\n\u001b[0;32m   3823\u001b[0m     \u001b[38;5;66;03m#  the TypeError.\u001b[39;00m\n\u001b[0;32m   3824\u001b[0m     \u001b[38;5;28mself\u001b[39m\u001b[38;5;241m.\u001b[39m_check_indexing_error(key)\n",
      "\u001b[1;31mKeyError\u001b[0m: 'Gender'"
     ]
    }
   ],
   "source": [
    "Count_for_Students_based_on_gender = df['Gender'].value_counts()\n",
    "print(Count_for_Students_based_on_gender)\n",
    "Count_for_Students = df['City'].value_counts()\n",
    "print(Count_for_Students)"
   ]
  },
  {
   "cell_type": "code",
   "execution_count": null,
   "id": "e99d4458-ce11-4e5a-8cd8-7619686c4651",
   "metadata": {},
   "outputs": [],
   "source": []
  },
  {
   "cell_type": "code",
   "execution_count": null,
   "id": "3dcc3dd4-b34c-4872-97db-770cd0d538f6",
   "metadata": {},
   "outputs": [],
   "source": []
  },
  {
   "cell_type": "code",
   "execution_count": null,
   "id": "ce68db0d-5df3-4250-b209-5c04071764a4",
   "metadata": {},
   "outputs": [],
   "source": []
  },
  {
   "cell_type": "code",
   "execution_count": null,
   "id": "67c11f74-53c5-457d-871b-15c80ac4fc7d",
   "metadata": {},
   "outputs": [],
   "source": []
  },
  {
   "cell_type": "code",
   "execution_count": null,
   "id": "29663db8-94c1-49aa-88f9-e82a5652d176",
   "metadata": {},
   "outputs": [],
   "source": []
  },
  {
   "cell_type": "code",
   "execution_count": null,
   "id": "4263ad80-a137-4ba6-9e7c-0c2d33bdeb3d",
   "metadata": {},
   "outputs": [],
   "source": []
  },
  {
   "cell_type": "code",
   "execution_count": null,
   "id": "0b73690c-28cc-470e-8b29-b3967ba35a95",
   "metadata": {},
   "outputs": [],
   "source": []
  },
  {
   "cell_type": "code",
   "execution_count": null,
   "id": "df3a11ac-5ac0-419d-8ee8-a748dd6d6a0a",
   "metadata": {},
   "outputs": [],
   "source": []
  },
  {
   "cell_type": "code",
   "execution_count": null,
   "id": "4b0caabb-215e-4c26-b9d0-e9f24cdb3c8c",
   "metadata": {},
   "outputs": [],
   "source": []
  },
  {
   "cell_type": "code",
   "execution_count": null,
   "id": "2d825f33-c51b-4966-a6ec-1a72f2d2a5e1",
   "metadata": {},
   "outputs": [],
   "source": []
  },
  {
   "cell_type": "code",
   "execution_count": null,
   "id": "aee221af-3461-4e0c-9155-7c8d7d76f755",
   "metadata": {},
   "outputs": [],
   "source": []
  },
  {
   "cell_type": "code",
   "execution_count": 258,
   "id": "7bd014fa-e7bd-4968-a5ff-786bae724c7a",
   "metadata": {},
   "outputs": [],
   "source": [
    "df = pd.read_csv(\"C:/Users/KHUSHI/Desktop/Jupyter/Assignement_2_data.csv\", )"
   ]
  },
  {
   "cell_type": "code",
   "execution_count": 259,
   "id": "2b745d33-63cb-4bd7-814e-764a3416c1ca",
   "metadata": {},
   "outputs": [
    {
     "data": {
      "text/html": [
       "<div>\n",
       "<style scoped>\n",
       "    .dataframe tbody tr th:only-of-type {\n",
       "        vertical-align: middle;\n",
       "    }\n",
       "\n",
       "    .dataframe tbody tr th {\n",
       "        vertical-align: top;\n",
       "    }\n",
       "\n",
       "    .dataframe thead th {\n",
       "        text-align: right;\n",
       "    }\n",
       "</style>\n",
       "<table border=\"1\" class=\"dataframe\">\n",
       "  <thead>\n",
       "    <tr style=\"text-align: right;\">\n",
       "      <th></th>\n",
       "      <th>Experiment_ID</th>\n",
       "      <th>Plasma_Temperature_K</th>\n",
       "      <th>Neutron_Counts</th>\n",
       "      <th>Magnetic_Field_Tesla</th>\n",
       "      <th>Radiation_Index</th>\n",
       "      <th>Experiment_Phase</th>\n",
       "    </tr>\n",
       "  </thead>\n",
       "  <tbody>\n",
       "    <tr>\n",
       "      <th>0</th>\n",
       "      <td>EXP001</td>\n",
       "      <td>12000000.0</td>\n",
       "      <td>450</td>\n",
       "      <td>2.5</td>\n",
       "      <td>0.87</td>\n",
       "      <td>Initial</td>\n",
       "    </tr>\n",
       "    <tr>\n",
       "      <th>1</th>\n",
       "      <td>EXP002</td>\n",
       "      <td>15000000.0</td>\n",
       "      <td>490</td>\n",
       "      <td>2.7</td>\n",
       "      <td>0.92</td>\n",
       "      <td>Ramp-Up</td>\n",
       "    </tr>\n",
       "    <tr>\n",
       "      <th>2</th>\n",
       "      <td>EXP003</td>\n",
       "      <td>16000000.0</td>\n",
       "      <td>530</td>\n",
       "      <td>2.6</td>\n",
       "      <td>0.95</td>\n",
       "      <td>Ramp-Up</td>\n",
       "    </tr>\n",
       "    <tr>\n",
       "      <th>3</th>\n",
       "      <td>EXP004</td>\n",
       "      <td>18000000.0</td>\n",
       "      <td>580</td>\n",
       "      <td>2.9</td>\n",
       "      <td>1.01</td>\n",
       "      <td>Steady</td>\n",
       "    </tr>\n",
       "    <tr>\n",
       "      <th>4</th>\n",
       "      <td>EXP005</td>\n",
       "      <td>17000000.0</td>\n",
       "      <td>560</td>\n",
       "      <td>3.0</td>\n",
       "      <td>1.03</td>\n",
       "      <td>Steady</td>\n",
       "    </tr>\n",
       "    <tr>\n",
       "      <th>5</th>\n",
       "      <td>EXP006</td>\n",
       "      <td>20000000.0</td>\n",
       "      <td>610</td>\n",
       "      <td>3.1</td>\n",
       "      <td>1.10</td>\n",
       "      <td>Peak</td>\n",
       "    </tr>\n",
       "    <tr>\n",
       "      <th>6</th>\n",
       "      <td>EXP007</td>\n",
       "      <td>19000000.0</td>\n",
       "      <td>600</td>\n",
       "      <td>3.2</td>\n",
       "      <td>1.08</td>\n",
       "      <td>Peak</td>\n",
       "    </tr>\n",
       "    <tr>\n",
       "      <th>7</th>\n",
       "      <td>EXP008</td>\n",
       "      <td>16000000.0</td>\n",
       "      <td>540</td>\n",
       "      <td>2.8</td>\n",
       "      <td>0.98</td>\n",
       "      <td>Decline</td>\n",
       "    </tr>\n",
       "    <tr>\n",
       "      <th>8</th>\n",
       "      <td>EXP009</td>\n",
       "      <td>14000000.0</td>\n",
       "      <td>500</td>\n",
       "      <td>2.6</td>\n",
       "      <td>0.93</td>\n",
       "      <td>Decline</td>\n",
       "    </tr>\n",
       "    <tr>\n",
       "      <th>9</th>\n",
       "      <td>EXP010</td>\n",
       "      <td>13000000.0</td>\n",
       "      <td>470</td>\n",
       "      <td>2.4</td>\n",
       "      <td>0.89</td>\n",
       "      <td>Shutdown</td>\n",
       "    </tr>\n",
       "  </tbody>\n",
       "</table>\n",
       "</div>"
      ],
      "text/plain": [
       "  Experiment_ID  Plasma_Temperature_K  Neutron_Counts  Magnetic_Field_Tesla  \\\n",
       "0        EXP001            12000000.0             450                   2.5   \n",
       "1        EXP002            15000000.0             490                   2.7   \n",
       "2        EXP003            16000000.0             530                   2.6   \n",
       "3        EXP004            18000000.0             580                   2.9   \n",
       "4        EXP005            17000000.0             560                   3.0   \n",
       "5        EXP006            20000000.0             610                   3.1   \n",
       "6        EXP007            19000000.0             600                   3.2   \n",
       "7        EXP008            16000000.0             540                   2.8   \n",
       "8        EXP009            14000000.0             500                   2.6   \n",
       "9        EXP010            13000000.0             470                   2.4   \n",
       "\n",
       "   Radiation_Index Experiment_Phase  \n",
       "0             0.87          Initial  \n",
       "1             0.92          Ramp-Up  \n",
       "2             0.95          Ramp-Up  \n",
       "3             1.01           Steady  \n",
       "4             1.03           Steady  \n",
       "5             1.10             Peak  \n",
       "6             1.08             Peak  \n",
       "7             0.98          Decline  \n",
       "8             0.93          Decline  \n",
       "9             0.89         Shutdown  "
      ]
     },
     "execution_count": 259,
     "metadata": {},
     "output_type": "execute_result"
    }
   ],
   "source": [
    "df"
   ]
  },
  {
   "cell_type": "code",
   "execution_count": null,
   "id": "9259240f-6f70-4f82-9c52-f40ffc4fc972",
   "metadata": {},
   "outputs": [],
   "source": []
  }
 ],
 "metadata": {
  "kernelspec": {
   "display_name": "py3-kernel",
   "language": "python",
   "name": "py3-kernel"
  },
  "language_info": {
   "codemirror_mode": {
    "name": "ipython",
    "version": 3
   },
   "file_extension": ".py",
   "mimetype": "text/x-python",
   "name": "python",
   "nbconvert_exporter": "python",
   "pygments_lexer": "ipython3",
   "version": "3.12.4"
  }
 },
 "nbformat": 4,
 "nbformat_minor": 5
}
