{
 "cells": [
  {
   "cell_type": "markdown",
   "id": "8cf00498-644b-422c-833c-905afec1d352",
   "metadata": {},
   "source": [
    "Part B - Basics of Python "
   ]
  },
  {
   "cell_type": "markdown",
   "id": "e2e39275-7e54-47fc-a75c-eb6b5911baf4",
   "metadata": {},
   "source": [
    "i - Basic Exercises"
   ]
  },
  {
   "cell_type": "markdown",
   "id": "83fbfb8e-239b-4d9f-941d-758e8acd3865",
   "metadata": {},
   "source": [
    "1. Write a Python program to print your name, college, and the message: \"Python is\n",
    "powerful!\"\n"
   ]
  },
  {
   "cell_type": "code",
   "execution_count": 9,
   "id": "4c035202-42af-4111-84f3-63578fc788ec",
   "metadata": {},
   "outputs": [
    {
     "name": "stdout",
     "output_type": "stream",
     "text": [
      "Khushi\n",
      "Panjab University\n",
      "Python is powerful!\n",
      "My name is Khushi and I have graduated from Panjab University and I think that Python is powerful!\n"
     ]
    }
   ],
   "source": [
    "my_name = \"Khushi\"\n",
    "my_college_name = \"Panjab University\"\n",
    "message = \"Python is powerful!\"\n",
    "print(my_name)\n",
    "print(my_college_name)\n",
    "print(message)\n",
    "print(\"My name is\" + \" \" + my_name + \" \" +\"and I have graduated from\" + \" \" + my_college_name + \" \" + \"and I think that\" + \" \" +message )"
   ]
  },
  {
   "cell_type": "markdown",
   "id": "b1e3a4e3-a14b-4d96-b921-74c132033892",
   "metadata": {},
   "source": [
    "2. Define three variables: an integer, a float, and a string. Print each with its type using\n",
    "type()."
   ]
  },
  {
   "cell_type": "code",
   "execution_count": 16,
   "id": "78bfe26b-f3f4-460c-aea1-ac6316ef269a",
   "metadata": {},
   "outputs": [
    {
     "name": "stdout",
     "output_type": "stream",
     "text": [
      "The function a is of type : <class 'int'>\n",
      "The function b is of type : <class 'float'>\n",
      "The function c is of type : <class 'str'>\n"
     ]
    }
   ],
   "source": [
    "a = 7\n",
    "b = 7.345\n",
    "c = \"apples\"\n",
    "\n",
    "print(\"The function a is of type : \"+ str(type(a)))\n",
    "print(\"The function b is of type : \"+ str(type(b)))\n",
    "print(\"The function c is of type : \"+ str(type(c)))"
   ]
  },
  {
   "cell_type": "markdown",
   "id": "42a6f0db-f445-47e1-84e2-0bd3edbb8600",
   "metadata": {},
   "source": [
    "3. Take two numbers as input from the user and display their sum, difference, and product."
   ]
  },
  {
   "cell_type": "code",
   "execution_count": 18,
   "id": "c730aeae-ffc4-466d-bd64-ccd745b710c1",
   "metadata": {},
   "outputs": [
    {
     "name": "stdout",
     "output_type": "stream",
     "text": [
      "The sum of a and b is : 10\n",
      "The difference of a and b is : 4\n",
      "The product of a and b is : 21\n"
     ]
    }
   ],
   "source": [
    "a = 7\n",
    "b = 3\n",
    "\n",
    "#sum\n",
    "c = a + b\n",
    "#difference\n",
    "d = a-b\n",
    "#product\n",
    "e = a*b\n",
    "\n",
    "print(\"The sum of a and b is : \" + str(c)) \n",
    "print(\"The difference of a and b is : \" + str(d)) \n",
    "print(\"The product of a and b is : \" + str(e)) "
   ]
  },
  {
   "cell_type": "markdown",
   "id": "97b23014-4b4b-4026-bbb9-77796ebad333",
   "metadata": {},
   "source": [
    "4. Write a program to check whether a number entered by the user is positive, negative, or zero."
   ]
  },
  {
   "cell_type": "code",
   "execution_count": 26,
   "id": "a996735a-fc9e-447a-8c65-9ec4d6c90b40",
   "metadata": {},
   "outputs": [
    {
     "name": "stdin",
     "output_type": "stream",
     "text": [
      "Enter the number here: 0\n"
     ]
    },
    {
     "name": "stdout",
     "output_type": "stream",
     "text": [
      "The number entered is Zero\n"
     ]
    }
   ],
   "source": [
    "Number = int(input(\"Enter the number here:\"))\n",
    "if Number > 0:\n",
    "    print(\"The number entered is postive\")\n",
    "elif Number < 0:\n",
    "    print(\"The number entered is negative\")\n",
    "else :\n",
    "    print(\"The number entered is Zero\")"
   ]
  },
  {
   "cell_type": "markdown",
   "id": "752b25e4-8959-4466-b890-a460872fdade",
   "metadata": {},
   "source": [
    "5. Create a list of 5 fruits. Print the first and last items. Add one more fruit and print\n",
    "the updated list."
   ]
  },
  {
   "cell_type": "code",
   "execution_count": 38,
   "id": "c18c1350-3d28-4844-afcd-fba3f66524da",
   "metadata": {},
   "outputs": [
    {
     "name": "stdout",
     "output_type": "stream",
     "text": [
      "The first fruit is:\n",
      "Apple\n",
      "Apple\n",
      "The last fruit is:\n",
      "Watermelon\n",
      "Watermelon\n"
     ]
    },
    {
     "data": {
      "text/plain": [
       "['Apple', 'Banana', 'Grapes', 'Pineapple', 'Watermelon', 'Chikoo']"
      ]
     },
     "execution_count": 38,
     "metadata": {},
     "output_type": "execute_result"
    }
   ],
   "source": [
    "fruits = ['Apple', 'Banana', 'Grapes', 'Pineapple', 'Watermelon']\n",
    "print(\"The first fruit is:\")\n",
    "print(fruits[0])\n",
    "print(fruits[-5])\n",
    "print(\"The last fruit is:\")\n",
    "print(fruits[4])\n",
    "print(fruits[-1])\n",
    "fruits.append(\"Chikoo\")\n",
    "fruits\n"
   ]
  },
  {
   "cell_type": "markdown",
   "id": "e835eeba-f00e-4a47-9c5d-b4db2d470a7d",
   "metadata": {},
   "source": [
    "ii – Logic and Control Flow"
   ]
  },
  {
   "cell_type": "markdown",
   "id": "bb6555b9-4df9-4e4a-a113-17ca751adb10",
   "metadata": {},
   "source": [
    "1. Write a program to check whether a number is even or odd."
   ]
  },
  {
   "cell_type": "code",
   "execution_count": 46,
   "id": "19e6ac4e-e7db-49b9-a4c0-dc18a1bc1275",
   "metadata": {},
   "outputs": [
    {
     "name": "stdin",
     "output_type": "stream",
     "text": [
      "Enter the number here: 50\n"
     ]
    },
    {
     "name": "stdout",
     "output_type": "stream",
     "text": [
      "The number entered is even\n"
     ]
    }
   ],
   "source": [
    "a = int(input(\"Enter the number here:\"))\n",
    "b = a % 2\n",
    "if b == 0:\n",
    "    print(\"The number entered is even\")\n",
    "else :\n",
    "    print(\"The number entered is odd\")"
   ]
  },
  {
   "cell_type": "markdown",
   "id": "a93ae694-fdf2-44d8-bf5b-cbdbccc09297",
   "metadata": {},
   "source": [
    "2. Using a for loop, print the square of numbers from 1 to 10."
   ]
  },
  {
   "cell_type": "code",
   "execution_count": 49,
   "id": "4fdd656c-d45e-4501-a70e-f84e12e10f6a",
   "metadata": {},
   "outputs": [
    {
     "name": "stdout",
     "output_type": "stream",
     "text": [
      "The square of 1 is 1\n",
      "The square of 2 is 4\n",
      "The square of 3 is 9\n",
      "The square of 4 is 16\n",
      "The square of 5 is 25\n",
      "The square of 6 is 36\n",
      "The square of 7 is 49\n",
      "The square of 8 is 64\n",
      "The square of 9 is 81\n"
     ]
    }
   ],
   "source": [
    "for i in range(1,10):\n",
    "    print(\"The square of\" + \" \" +str(i) + \" \" + \"is\"+ \" \" + str(i*i))"
   ]
  },
  {
   "cell_type": "markdown",
   "id": "5c9cea79-83da-4277-bc51-93e89cc76673",
   "metadata": {},
   "source": [
    "3. Using a while loop, display numbers from 10 to 1 in reverse."
   ]
  },
  {
   "cell_type": "code",
   "execution_count": 54,
   "id": "08eb2e0e-a7ae-4e31-8c5c-371d040be6ae",
   "metadata": {},
   "outputs": [
    {
     "name": "stdout",
     "output_type": "stream",
     "text": [
      "The number is : 10\n",
      "The number is : 9\n",
      "The number is : 8\n",
      "The number is : 7\n",
      "The number is : 6\n",
      "The number is : 5\n",
      "The number is : 4\n",
      "The number is : 3\n",
      "The number is : 2\n",
      "The number is : 1\n"
     ]
    }
   ],
   "source": [
    "number = 10\n",
    "while number > 0:\n",
    "    print(\"The number is :\" +\" \"+ str(number))\n",
    "    number -= 1"
   ]
  },
  {
   "cell_type": "markdown",
   "id": "559c68ef-d66f-4c54-9c10-984ccb8e6594",
   "metadata": {},
   "source": [
    "4. Ask the user to enter a password. If it matches \"Astro@123\", print “Access Granted”.\n",
    "Else print “Access Denied”."
   ]
  },
  {
   "cell_type": "code",
   "execution_count": 56,
   "id": "3e94ce31-41e8-47eb-a668-ea5d3289198c",
   "metadata": {},
   "outputs": [
    {
     "name": "stdin",
     "output_type": "stream",
     "text": [
      "Please neter the password: jingalalahuhu\n"
     ]
    },
    {
     "name": "stdout",
     "output_type": "stream",
     "text": [
      "Access Denied\n"
     ]
    }
   ],
   "source": [
    "Password = input(\"Please neter the password:\")\n",
    "if Password == \"Astro@123\":\n",
    "    print(\"Access Granted\")\n",
    "else:\n",
    "    print(\"Access Denied\")"
   ]
  },
  {
   "cell_type": "markdown",
   "id": "48aad259-4036-40ff-80d3-17433efdf335",
   "metadata": {},
   "source": [
    "iii – Intermediate Practice"
   ]
  },
  {
   "cell_type": "markdown",
   "id": "1c412965-da49-4902-b049-691f3e46c345",
   "metadata": {},
   "source": [
    "1. Write a function greet(name) that takes a name and prints \"Hello, <name>!\"."
   ]
  },
  {
   "cell_type": "code",
   "execution_count": 60,
   "id": "4eeb5e32-a445-4883-a993-e8ca4ac4d082",
   "metadata": {},
   "outputs": [
    {
     "name": "stdout",
     "output_type": "stream",
     "text": [
      "Hello! KHUSHI\n",
      "Hello! Kim Namjoon\n",
      "Hello! Justin Bieber\n"
     ]
    }
   ],
   "source": [
    "def greet(name):\n",
    "    print(\"Hello!\", name)\n",
    "greet(\"KHUSHI\")\n",
    "greet(\"Kim Namjoon\")\n",
    "greet(\"Justin Bieber\")\n"
   ]
  },
  {
   "cell_type": "code",
   "execution_count": 62,
   "id": "6eedab09-21dd-48df-b337-4268d36d575a",
   "metadata": {},
   "outputs": [
    {
     "name": "stdout",
     "output_type": "stream",
     "text": [
      "The numbers are: (7.7, 6, 3.57)\n"
     ]
    }
   ],
   "source": [
    "# Define a tuple\n",
    "Numbers = (7.7, 6, 3.57)  \n",
    "\n",
    "print(\"The numbers are:\", Numbers)"
   ]
  },
  {
   "cell_type": "code",
   "execution_count": 64,
   "id": "9b948990-44ad-4130-98d7-885a2deda49f",
   "metadata": {},
   "outputs": [
    {
     "name": "stdout",
     "output_type": "stream",
     "text": [
      "Person info: {'name': 'KHUSHI', 'age': 21, 'field': 'Astrophysics, Nuclear Physics, Cosmology'}\n",
      "Name: KHUSHI\n"
     ]
    }
   ],
   "source": [
    "person = {\n",
    "    \"name\": \"KHUSHI\",\n",
    "    \"age\": 21,\n",
    "    \"field\": \"Astrophysics, Nuclear Physics, Cosmology\"\n",
    "}\n",
    "print(\"Person info:\", person)\n",
    "print(\"Name:\", person[\"name\"])"
   ]
  },
  {
   "cell_type": "code",
   "execution_count": 65,
   "id": "d04d2833-d262-4e71-b3e5-38c439b015b5",
   "metadata": {},
   "outputs": [
    {
     "name": "stdin",
     "output_type": "stream",
     "text": [
      "Enter the number here: 3\n",
      "Enter the number here: 7\n",
      "Enter the number here: 8\n"
     ]
    },
    {
     "name": "stdout",
     "output_type": "stream",
     "text": [
      "Third number is the greatest\n"
     ]
    }
   ],
   "source": [
    "Num1 = int(input(\"Enter the number here:\"))\n",
    "Num2 = int(input(\"Enter the number here:\"))\n",
    "Num3 = int(input(\"Enter the number here:\"))\n",
    "if Num1 > Num2 and Num1 > Num2:\n",
    "    print(\"First number is the greatest\")\n",
    "if Num2 > Num3 and Num2 > Num1:\n",
    "    print(\"Second number is the greatest\")\n",
    "if Num3 > Num1 and Num3 > Num2:\n",
    "    print(\"Third number is the greatest\")\n",
    "    "
   ]
  },
  {
   "cell_type": "code",
   "execution_count": null,
   "id": "6791d689-8936-4b24-a48c-8453275fd219",
   "metadata": {},
   "outputs": [],
   "source": []
  }
 ],
 "metadata": {
  "kernelspec": {
   "display_name": "py3-kernel",
   "language": "python",
   "name": "py3-kernel"
  },
  "language_info": {
   "codemirror_mode": {
    "name": "ipython",
    "version": 3
   },
   "file_extension": ".py",
   "mimetype": "text/x-python",
   "name": "python",
   "nbconvert_exporter": "python",
   "pygments_lexer": "ipython3",
   "version": "3.12.4"
  }
 },
 "nbformat": 4,
 "nbformat_minor": 5
}
